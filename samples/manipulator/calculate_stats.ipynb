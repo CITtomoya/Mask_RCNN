{
 "cells": [
  {
   "cell_type": "code",
   "execution_count": 14,
   "metadata": {},
   "outputs": [],
   "source": [
    "import os\n",
    "import sys\n",
    "import random\n",
    "import math\n",
    "import re\n",
    "import time\n",
    "import numpy as np\n",
    "import cv2\n",
    "import matplotlib\n",
    "import matplotlib.pyplot as plt\n",
    "from pathlib import Path\n",
    "import skimage.io\n",
    "\n",
    "# Root directory of the project\n",
    "ROOT_DIR = os.path.abspath(\"../../\")\n",
    "\n",
    "# Import Mask RCNN\n",
    "sys.path.append(ROOT_DIR)  # To find local version of the library\n",
    "from mrcnn.config import Config\n",
    "from mrcnn import utils\n",
    "import mrcnn.model as modellib\n",
    "from mrcnn import visualize\n",
    "from mrcnn.model import log\n",
    "\n",
    "%matplotlib inline "
   ]
  },
  {
   "cell_type": "code",
   "execution_count": 15,
   "metadata": {},
   "outputs": [],
   "source": [
    "#data_dir = '/media/ianormy/Storage/Data/datasets/manipulator'\n",
    "data_dir = '/home/ianormy/data/datasets/manipulator'"
   ]
  },
  {
   "cell_type": "code",
   "execution_count": 16,
   "metadata": {},
   "outputs": [],
   "source": [
    "train_data_dir = os.path.join(os.path.join(data_dir, 'train'), 'images')\n",
    "train_quad_labels = [e for e in os.scandir(train_data_dir)]"
   ]
  },
  {
   "cell_type": "code",
   "execution_count": 17,
   "metadata": {},
   "outputs": [],
   "source": [
    "def calc_image_stats(quad_labels, num_channels=3):\n",
    "    pixel_num = 0 # store all pixel number in the dataset\n",
    "    channel_sum = np.zeros(num_channels)\n",
    "    channel_sum_squared = np.zeros(num_channels)\n",
    "\n",
    "    for idx, entry in enumerate(quad_labels):\n",
    "        filename=entry.path\n",
    "        im = cv2.imread(filename) # image in M*N*CHANNEL_NUM shape, channel in BGR order\n",
    "        im = im/255.0\n",
    "        pixel_num += (im.size/num_channels)\n",
    "        channel_sum += np.sum(im, axis=(0, 1))\n",
    "\n",
    "    bgr_mean = channel_sum / pixel_num\n",
    "    \n",
    "    # change the format from bgr to rgb\n",
    "    rgb_mean = list(bgr_mean)[::-1]\n",
    "    \n",
    "    return rgb_mean"
   ]
  },
  {
   "cell_type": "code",
   "execution_count": 18,
   "metadata": {},
   "outputs": [
    {
     "name": "stdout",
     "output_type": "stream",
     "text": [
      "Mean pixels: 113.14847757629089\n"
     ]
    }
   ],
   "source": [
    "mean = calc_image_stats(train_quad_labels)\n",
    "mean_pix = mean[0] * 255.0\n",
    "print(\"Mean pixels: {}\".format(mean_pix))"
   ]
  }
 ],
 "metadata": {
  "kernelspec": {
   "display_name": "Python 3",
   "language": "python",
   "name": "python3"
  },
  "language_info": {
   "codemirror_mode": {
    "name": "ipython",
    "version": 3
   },
   "file_extension": ".py",
   "mimetype": "text/x-python",
   "name": "python",
   "nbconvert_exporter": "python",
   "pygments_lexer": "ipython3",
   "version": "3.6.9"
  }
 },
 "nbformat": 4,
 "nbformat_minor": 4
}
