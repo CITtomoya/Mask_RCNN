{
 "cells": [
  {
   "cell_type": "markdown",
   "metadata": {
    "toc": true
   },
   "source": [
    "<h1>Table of Contents<span class=\"tocSkip\"></span></h1>\n",
    "<div class=\"toc\"><ul class=\"toc-item\"><li><span><a href=\"#Mask-R-CNN---One-Shot-Version\" data-toc-modified-id=\"Mask-R-CNN---One-Shot-Version-1\"><span class=\"toc-item-num\">1&nbsp;&nbsp;</span>Mask R-CNN - One Shot Version</a></span></li><li><span><a href=\"#Data-Preperation\" data-toc-modified-id=\"Data-Preperation-2\"><span class=\"toc-item-num\">2&nbsp;&nbsp;</span>Data Preperation</a></span></li><li><span><a href=\"#One-Shot-Inference\" data-toc-modified-id=\"One-Shot-Inference-3\"><span class=\"toc-item-num\">3&nbsp;&nbsp;</span>One Shot Inference</a></span><ul class=\"toc-item\"><li><span><a href=\"#Define-an-anchor\" data-toc-modified-id=\"Define-an-anchor-3.1\"><span class=\"toc-item-num\">3.1&nbsp;&nbsp;</span>Define an anchor</a></span></li><li><span><a href=\"#Detect\" data-toc-modified-id=\"Detect-3.2\"><span class=\"toc-item-num\">3.2&nbsp;&nbsp;</span>Detect</a></span></li></ul></li><li><span><a href=\"#Visualizations\" data-toc-modified-id=\"Visualizations-4\"><span class=\"toc-item-num\">4&nbsp;&nbsp;</span>Visualizations</a></span><ul class=\"toc-item\"><li><span><a href=\"#Bounding-Box-Visualization\" data-toc-modified-id=\"Bounding-Box-Visualization-4.1\"><span class=\"toc-item-num\">4.1&nbsp;&nbsp;</span>Bounding Box Visualization</a></span></li><li><span><a href=\"#Feature-Map\" data-toc-modified-id=\"Feature-Map-4.2\"><span class=\"toc-item-num\">4.2&nbsp;&nbsp;</span>Feature Map</a></span></li><li><span><a href=\"#Spectrogram-Like-Plotting\" data-toc-modified-id=\"Spectrogram-Like-Plotting-4.3\"><span class=\"toc-item-num\">4.3&nbsp;&nbsp;</span>Spectrogram-Like Plotting</a></span></li></ul></li><li><span><a href=\"#Metrics\" data-toc-modified-id=\"Metrics-5\"><span class=\"toc-item-num\">5&nbsp;&nbsp;</span>Metrics</a></span><ul class=\"toc-item\"><li><span><a href=\"#Different-Clustering-Metrics\" data-toc-modified-id=\"Different-Clustering-Metrics-5.1\"><span class=\"toc-item-num\">5.1&nbsp;&nbsp;</span>Different Clustering Metrics</a></span></li></ul></li></ul></div>"
   ]
  },
  {
   "cell_type": "markdown",
   "metadata": {},
   "source": [
    "## Mask R-CNN - One Shot Version\n",
    "\n",
    "In the document we can run one-shot detection of wireframes using Mask R-CNN as the backbone of that analysis. "
   ]
  },
  {
   "cell_type": "code",
   "execution_count": null,
   "metadata": {},
   "outputs": [],
   "source": [
    "# Only run this block on Google CoLab\n",
    "#!git clone https://github.com/Holstrup/Mask_RCNN \n",
    "#import os\n",
    "#os.chdir(\"Mask_RCNN/samples/wireframe\")"
   ]
  },
  {
   "cell_type": "code",
   "execution_count": 1,
   "metadata": {},
   "outputs": [
    {
     "name": "stderr",
     "output_type": "stream",
     "text": [
      "Using TensorFlow backend.\n"
     ]
    }
   ],
   "source": [
    "import os\n",
    "import sys\n",
    "import random\n",
    "import math\n",
    "import re\n",
    "import time\n",
    "import numpy as np\n",
    "import tensorflow as tf\n",
    "import matplotlib\n",
    "import matplotlib.pyplot as plt\n",
    "import matplotlib.patches as patches\n",
    "import sklearn.metrics as metrics\n",
    "\n",
    "# Root directory of the project\n",
    "ROOT_DIR = os.path.abspath(\"../../\")\n",
    "\n",
    "# Import Mask RCNN\n",
    "sys.path.append(ROOT_DIR)  # To find local version of the library\n",
    "from mrcnn import utils\n",
    "from mrcnn import visualize\n",
    "from mrcnn.visualize import display_images\n",
    "import mrcnn.model as modellib\n",
    "from mrcnn.model import log\n",
    "from samples.wireframe.WireframeGenerator import generate_data\n",
    "import samples.wireframe.plots as plots\n",
    "from samples.wireframe import Wireframe\n",
    "import samples.wireframe.database_actions as db\n",
    "\n",
    "%matplotlib inline "
   ]
  },
  {
   "cell_type": "markdown",
   "metadata": {},
   "source": [
    "## Data Preperation\n",
    "\n",
    "This block prepares the data for us"
   ]
  },
  {
   "cell_type": "markdown",
   "metadata": {},
   "source": [
    "First we need to generate some data, if the data is not already there. Note that, if you already have the data, you can simply skip this block. \n",
    "The function will create an additional 20% of images, that will be used as validation. "
   ]
  },
  {
   "cell_type": "code",
   "execution_count": 2,
   "metadata": {},
   "outputs": [],
   "source": [
    "NUM_TRAINING_IMAGES = 100\n",
    "MAX_ICONS_PER_IMAGE = 3\n",
    "generate_data(NUM_TRAINING_IMAGES, MAX_ICONS_PER_IMAGE)"
   ]
  },
  {
   "cell_type": "code",
   "execution_count": 3,
   "metadata": {},
   "outputs": [],
   "source": [
    "config = Wireframe.WireframeConfig()\n",
    "WIREFRAME_DIR = os.path.join(ROOT_DIR, \"datasets/wireframe\")\n",
    "\n",
    "# Training dataset\n",
    "dataset_train = Wireframe.WireframeDataset()\n",
    "dataset_train.load_wireframe(WIREFRAME_DIR, \"train\")\n",
    "dataset_train.prepare()\n",
    "\n",
    "\n",
    "# Validation dataset\n",
    "dataset_val = Wireframe.WireframeDataset()\n",
    "dataset_val.load_wireframe(WIREFRAME_DIR, \"val\")\n",
    "dataset_val.prepare()                   "
   ]
  },
  {
   "cell_type": "markdown",
   "metadata": {},
   "source": [
    "## One Shot Inference \n",
    "\n",
    "Now we are ready to start detecting with our model. In this block we will be able to do two different things: \n",
    "1. Define an anchor and store it in our database\n",
    "2. Detect icons based on the anchors in the database"
   ]
  },
  {
   "cell_type": "markdown",
   "metadata": {},
   "source": [
    "First we need to load the weights from the pretrained model, and initialize it in inference mode. The model file should be located in the **root folder**"
   ]
  },
  {
   "cell_type": "code",
   "execution_count": 4,
   "metadata": {},
   "outputs": [
    {
     "name": "stdout",
     "output_type": "stream",
     "text": [
      "WARNING:tensorflow:From /usr/local/lib/python3.7/site-packages/tensorflow/python/framework/op_def_library.py:263: colocate_with (from tensorflow.python.framework.ops) is deprecated and will be removed in a future version.\n",
      "Instructions for updating:\n",
      "Colocations handled automatically by placer.\n",
      "WARNING:tensorflow:From /Users/alexanderholstrup/git/Mask_RCNN/mrcnn/model.py:773: to_float (from tensorflow.python.ops.math_ops) is deprecated and will be removed in a future version.\n",
      "Instructions for updating:\n",
      "Use tf.cast instead.\n",
      "Loading weights from  /Users/alexanderholstrup/git/Mask_RCNN/mask_rcnn_20.h5\n"
     ]
    }
   ],
   "source": [
    "MODEL_FILE_NAME = \"mask_rcnn_20.h5\"\n",
    "\n",
    "class InferenceConfig(Wireframe.WireframeConfig):\n",
    "    GPU_COUNT = 1\n",
    "    IMAGES_PER_GPU = 1\n",
    "\n",
    "inference_config = InferenceConfig()\n",
    "\n",
    "# Directory to save logs and trained model\n",
    "MODEL_DIR = os.path.join(ROOT_DIR, \"logs\")\n",
    "\n",
    "# Recreate the model in inference mode\n",
    "model = modellib.MaskRCNN(mode=\"inference\", \n",
    "                          config=inference_config,\n",
    "                          model_dir=MODEL_DIR)\n",
    "\n",
    "# Get path to saved weights\n",
    "# Either set a specific path or find last trained weights\n",
    "model_path = os.path.join(ROOT_DIR, MODEL_FILE_NAME)\n",
    "\n",
    "# Load trained weights\n",
    "print(\"Loading weights from \", model_path)\n",
    "model.load_weights(model_path, by_name=True)"
   ]
  },
  {
   "cell_type": "markdown",
   "metadata": {},
   "source": [
    "Now we randomly pick an image and display it."
   ]
  },
  {
   "cell_type": "code",
   "execution_count": 9,
   "metadata": {},
   "outputs": [
    {
     "name": "stdout",
     "output_type": "stream",
     "text": [
      "Class names are: \n",
      "[{'name': 'More'}, {'name': 'Home'}]\n",
      "original_image           shape: (1024, 1024, 3)       min:    0.00000  max:  255.00000  uint8\n",
      "image_meta               shape: (17,)                 min:    0.00000  max: 1334.00000  float64\n",
      "gt_class_id              shape: (2,)                  min:    0.00000  max:    4.00000  int64\n",
      "gt_bbox                  shape: (2, 4)                min:  364.00000  max:  906.00000  int32\n",
      "gt_mask                  shape: (1024, 1024, 2)       min:    0.00000  max:    1.00000  bool\n"
     ]
    },
    {
     "data": {
      "image/png": "[encoded data removed]",
      "text/plain": [
       "<Figure size 576x576 with 1 Axes>"
      ]
     },
     "metadata": {
      "needs_background": "light"
     },
     "output_type": "display_data"
    }
   ],
   "source": [
    "# Test on a random image\n",
    "image_id = random.choice(dataset_val.image_ids)\n",
    "\n",
    "original_image, image_meta, gt_class_id, gt_bbox, gt_mask =\\\n",
    "    modellib.load_image_gt(dataset_val, inference_config, \n",
    "                           image_id, use_mini_mask=False)\n",
    "\n",
    "log(\"original_image\", original_image)\n",
    "log(\"image_meta\", image_meta)\n",
    "log(\"gt_class_id\", gt_class_id)\n",
    "log(\"gt_bbox\", gt_bbox)\n",
    "log(\"gt_mask\", gt_mask)\n",
    "\n",
    "visualize.display_instances(original_image, gt_bbox, gt_mask, gt_class_id, \n",
    "                            dataset_train.class_names, figsize=(8, 8))\n"
   ]
  },
  {
   "cell_type": "markdown",
   "metadata": {},
   "source": [
    "The next two functions might look similar in naming style, but they do different things. The OneShotAnchor function, is meant for you to tell our model \"*hey! here's a new icon I'd like for you to be able to classify from now on*\". Be aware, that the function only accepts images with **ONE** icon in it. <br/>\n",
    "The OneShotDetect function is meant to detect all icons on a given image, and output their labels, based on the one-shots the models has been given before through the OneShotAnchor function. "
   ]
  },
  {
   "cell_type": "markdown",
   "metadata": {},
   "source": [
    "### Define an anchor\n",
    "\n",
    "Please specify the label"
   ]
  },
  {
   "cell_type": "code",
   "execution_count": 13,
   "metadata": {},
   "outputs": [],
   "source": [
    "LABEL = \"Home\"\n",
    "model.OneShotAnchor(original_image, LABEL)"
   ]
  },
  {
   "cell_type": "markdown",
   "metadata": {},
   "source": [
    "### Detect\n",
    "\n",
    "For each icon on the image, it outputs the top 2 guesses, along with the normalized distance."
   ]
  },
  {
   "cell_type": "code",
   "execution_count": 20,
   "metadata": {},
   "outputs": [
    {
     "data": {
      "text/plain": [
       "({1.0: [(b'Cross', 0.22413386), (b'Menu', 0.29760748)],\n",
       "  2.0: [(b'Menu', 0.16606618), (b'Home', 0.2631173)],\n",
       "  3.0: [(b'Menu', 0.13257925), (b'Home', 0.30564335)]},\n",
       " [(1, [(b'Cross', 0.22413386), (b'Menu', 0.29760748)]),\n",
       "  (2, [(b'Menu', 0.16606618), (b'Home', 0.2631173)]),\n",
       "  (3, [(b'Menu', 0.23119022), (b'Cross', 0.29267773)]),\n",
       "  (1, [(b'Cross', 0.2565901), (b'Home', 0.27604467)]),\n",
       "  (3, [(b'Menu', 0.13257925), (b'Home', 0.30564335)]),\n",
       "  (2, [(b'Cross', 0.28984457), (b'Home', 0.30953193)]),\n",
       "  (1, [(b'Home', 0.23073359), (b'Cross', 0.25367382)]),\n",
       "  (3, [(b'Home', 0.3104062), (b'Cross', 0.32471296)])])"
      ]
     },
     "execution_count": 20,
     "metadata": {},
     "output_type": "execute_result"
    }
   ],
   "source": [
    "model.OneShotDetect(original_image)"
   ]
  },
  {
   "cell_type": "markdown",
   "metadata": {},
   "source": [
    "## Visualizations\n",
    "\n",
    "This block is under construction. The intent is to give us some overview of how our data looks. As of right now, the block includes: \n",
    "1. Bounding Box visualization\n",
    "2. Feature map plotting \n",
    "3. A spectrogram-like plotting of our features.  \n",
    "\n",
    "Still to be made: \n",
    "* T-SNE of the feature vectors \n",
    "* More... "
   ]
  },
  {
   "cell_type": "markdown",
   "metadata": {},
   "source": [
    "### Bounding Box Visualization\n",
    "\n",
    "This visualization will show you how where the bounding boxes are located on the image. This can be useful when the one shot predictions give some weird results. In that case it us useful to see exactly where the bounding boxes are, in order to give some idea of why the results are the way they are. "
   ]
  },
  {
   "cell_type": "code",
   "execution_count": 15,
   "metadata": {},
   "outputs": [
    {
     "name": "stdout",
     "output_type": "stream",
     "text": [
      "Processing 1 images\n",
      "image                    shape: (1024, 1024, 3)       min:    0.00000  max:  255.00000  uint8\n",
      "molded_images            shape: (1, 1024, 1024, 3)    min: -123.70000  max:  151.10000  float64\n",
      "image_metas              shape: (1, 17)               min:    0.00000  max: 1024.00000  int64\n",
      "anchors                  shape: (1, 261888, 4)        min:   -0.35390  max:    1.29134  float32\n"
     ]
    },
    {
     "data": {
      "image/png": "[encoded data removed]",
      "text/plain": [
       "<Figure size 864x864 with 1 Axes>"
      ]
     },
     "metadata": {
      "needs_background": "light"
     },
     "output_type": "display_data"
    }
   ],
   "source": [
    "results = model.detect([original_image], verbose=1)\n",
    "visualize.draw_boxes(original_image, results[0]['rois'])"
   ]
  },
  {
   "cell_type": "markdown",
   "metadata": {
    "heading_collapsed": true
   },
   "source": [
    "### Feature Map\n",
    "This will show you a feature map of the embedding vectors. It can be useful to see, if they resemble each other in some way. Often then won't, but you maybe you get lucky. <br/>\n",
    "A more technical note: The feature maps are simply contructed by reshaping the (,1024) vector to (32,32), thus you cannot expect to see any resemblance to the actual icons or anything. "
   ]
  },
  {
   "cell_type": "code",
   "execution_count": 8,
   "metadata": {
    "hidden": true
   },
   "outputs": [],
   "source": [
    "indicies = [1, 3, 5, 7]\n",
    "\n",
    "embeddings, labels = db.get_known_encodings()\n",
    "map1 = embeddings[:, indicies[0]]\n",
    "map2 = embeddings[:, indicies[1]]\n",
    "map3 = embeddings[:, indicies[2]]\n",
    "map4 = embeddings[:, indicies[3]]\n",
    "embeddings = np.stack([map1, map2, map3, map4], axis=1)\n",
    "labels = [labels[indicies[0]], labels[indicies[1]], labels[indicies[2]], labels[indicies[3]]]"
   ]
  },
  {
   "cell_type": "code",
   "execution_count": 9,
   "metadata": {
    "hidden": true
   },
   "outputs": [
    {
     "data": {
      "image/png": "[encoded data removed]",
      "text/plain": [
       "<Figure size 864x864 with 8 Axes>"
      ]
     },
     "metadata": {
      "needs_background": "light"
     },
     "output_type": "display_data"
    }
   ],
   "source": [
    "plots.feature_maps(embeddings, labels)"
   ]
  },
  {
   "cell_type": "markdown",
   "metadata": {
    "heading_collapsed": true
   },
   "source": [
    "### Spectrogram-Like Plotting\n",
    "This is a very similar plot to the feature map. This just plots the embedding vectors without reshaping them, so you get more of a histogram-like plot. "
   ]
  },
  {
   "cell_type": "code",
   "execution_count": 3,
   "metadata": {
    "hidden": true
   },
   "outputs": [],
   "source": [
    "indicies = [1, 3, 5]\n",
    "\n",
    "embeddings, labels = db.get_known_encodings()\n",
    "map1 = embeddings[:, indicies[0]]\n",
    "map2 = embeddings[:, indicies[1]]\n",
    "map3 = embeddings[:, indicies[2]]\n",
    "embeddings = np.stack([map1, map2, map3], axis=1)\n",
    "labels = [labels[indicies[0]], labels[indicies[1]], labels[indicies[2]]]"
   ]
  },
  {
   "cell_type": "code",
   "execution_count": 4,
   "metadata": {
    "hidden": true
   },
   "outputs": [
    {
     "data": {
      "image/png": "[encoded data removed]",
      "text/plain": [
       "<Figure size 432x288 with 3 Axes>"
      ]
     },
     "metadata": {
      "needs_background": "light"
     },
     "output_type": "display_data"
    }
   ],
   "source": [
    "plots.histogram_plot(embeddings, labels)"
   ]
  },
  {
   "cell_type": "markdown",
   "metadata": {},
   "source": [
    "## Metrics\n",
    "This block is under construction. It should give us some metrics of how well our classifier is doing. We aim to implement: \n",
    "1. A Confusion Matrix \n",
    "2. Precision and Recall\n",
    "3. Different Clustering Metrics\n",
    "    * Silhouette Score"
   ]
  },
  {
   "cell_type": "markdown",
   "metadata": {},
   "source": [
    "### Different Clustering Metrics"
   ]
  },
  {
   "cell_type": "code",
   "execution_count": 20,
   "metadata": {},
   "outputs": [
    {
     "data": {
      "text/plain": [
       "-0.24482112"
      ]
     },
     "execution_count": 20,
     "metadata": {},
     "output_type": "execute_result"
    }
   ],
   "source": [
    "embeddings, labels = db.get_known_encodings()\n",
    "\n",
    "metrics.silhouette_score(embeddings.T, labels)"
   ]
  }
 ],
 "metadata": {
  "kernelspec": {
   "display_name": "Python 3",
   "language": "python",
   "name": "python3"
  },
  "language_info": {
   "codemirror_mode": {
    "name": "ipython",
    "version": 3
   },
   "file_extension": ".py",
   "mimetype": "text/x-python",
   "name": "python",
   "nbconvert_exporter": "python",
   "pygments_lexer": "ipython3",
   "version": "3.7.2"
  },
  "toc": {
   "base_numbering": 1,
   "nav_menu": {},
   "number_sections": true,
   "sideBar": true,
   "skip_h1_title": false,
   "title_cell": "Table of Contents",
   "title_sidebar": "Contents",
   "toc_cell": true,
   "toc_position": {
    "height": "calc(100% - 180px)",
    "left": "10px",
    "top": "150px",
    "width": "227.734px"
   },
   "toc_section_display": true,
   "toc_window_display": false
  }
 },
 "nbformat": 4,
 "nbformat_minor": 1
}
