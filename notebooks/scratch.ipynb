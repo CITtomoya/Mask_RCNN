{
 "cells": [
  {
   "cell_type": "code",
   "execution_count": null,
   "metadata": {},
   "outputs": [],
   "source": [
    "from cropmask.download import download_utils as du"
   ]
  },
  {
   "cell_type": "code",
   "execution_count": null,
   "metadata": {},
   "outputs": [],
   "source": [
    "import os\n",
    "import yaml\n",
    "config_path = \"/home/ryan/work/azure_configs.yaml\"\n",
    "\n",
    "with open(config_path) as f:\n",
    "    configs = yaml.safe_load(f)"
   ]
  },
  {
   "cell_type": "code",
   "execution_count": null,
   "metadata": {},
   "outputs": [],
   "source": [
    "import lsru"
   ]
  },
  {
   "cell_type": "code",
   "execution_count": null,
   "metadata": {},
   "outputs": [],
   "source": [
    "st = configs['storage']"
   ]
  },
  {
   "cell_type": "code",
   "execution_count": null,
   "metadata": {},
   "outputs": [],
   "source": [
    "espa = du.Espa()"
   ]
  },
  {
   "cell_type": "code",
   "execution_count": null,
   "metadata": {},
   "outputs": [],
   "source": [
    "order = espa.orders[-3]"
   ]
  },
  {
   "cell_type": "code",
   "execution_count": null,
   "metadata": {},
   "outputs": [],
   "source": [
    "order.download_all_complete_azure(st['container'], st['storage_name'], st['storage_key'])"
   ]
  },
  {
   "cell_type": "code",
   "execution_count": null,
   "metadata": {},
   "outputs": [],
   "source": []
  },
  {
   "cell_type": "code",
   "execution_count": null,
   "metadata": {},
   "outputs": [],
   "source": [
    "import os\n",
    "import yaml\n",
    "from azure.storage.blob import BlockBlobService\n",
    "config_path = \"/home/ryan/work/azure_configs.yaml\"\n",
    "\n",
    "with open(config_path) as f:\n",
    "    configs = yaml.safe_load(f)\n",
    "\n",
    "\n",
    "\n",
    "# Azure Storage Blob Sample - Demonstrate how to use the Blob Storage service. \n",
    "# Blob storage stores unstructured data such as text, binary data, documents or media files. \n",
    "# Blobs can be accessed from anywhere in the world via HTTP or HTTPS. \n",
    "#\n",
    " \n",
    "# Documentation References: \n",
    "#  - What is a Storage Account - http://azure.microsoft.com/en-us/documentation/articles/storage-whatis-account/ \n",
    "#  - Getting Started with Blobs - https://azure.microsoft.com/en-us/documentation/articles/storage-python-how-to-use-blob-storage/\n",
    "#  - Blob Service Concepts - http://msdn.microsoft.com/en-us/library/dd179376.aspx \n",
    "#  - Blob Service REST API - http://msdn.microsoft.com/en-us/library/dd135733.aspx \n",
    "#  - Blob Service Python API - http://azure.github.io/azure-storage-python/ref/azure.storage.blob.html\n",
    "#  - Storage Emulator - http://azure.microsoft.com/en-us/documentation/articles/storage-use-emulator/ \n",
    "#\n",
    " \n"
   ]
  },
  {
   "cell_type": "code",
   "execution_count": null,
   "metadata": {},
   "outputs": [],
   "source": [
    "def run_sample():\n",
    "    try:\n",
    "        \n",
    "        # Create a container called 'quickstartblobs'.\n",
    "        container_name =configs['storage']['container']\n",
    "        block_blob_service.create_container(container_name)\n",
    "\n",
    "        # Set the permission so the blobs are public.\n",
    "#         block_blob_service.set_container_acl(container_name, public_access=PublicAccess.Container)\n",
    "\n",
    "        # Create a file in Documents to test the upload and download.\n",
    "        local_path=os.path.expanduser(\"~/work/tmp/LT050320312005011601T1-SC20190411001516\")\n",
    "        local_file_name =\"LT05_L1TP_032031_20050116_20160913_01_T1_sr_band1.tif\"\n",
    "        full_path_to_file =os.path.join(local_path, local_file_name)\n",
    "\n",
    "\n",
    "        print(\"Temp file = \" + full_path_to_file)\n",
    "        print(\"\\nUploading to Blob storage as blob\" + local_file_name)\n",
    "\n",
    "        # Upload the created file, use local_file_name for the blob name\n",
    "        block_blob_service.create_blob_from_path(container_name, local_file_name, full_path_to_file)\n",
    "\n",
    "        # List the blobs in the container\n",
    "        print(\"\\nList blobs in the container\")\n",
    "        generator = block_blob_service.list_blobs(container_name)\n",
    "        for blob in generator:\n",
    "            print(\"\\t Blob name: \" + blob.name)\n",
    "\n",
    "    except Exception as e:\n",
    "        print(e)"
   ]
  },
  {
   "cell_type": "code",
   "execution_count": null,
   "metadata": {},
   "outputs": [],
   "source": [
    "run_sample()"
   ]
  },
  {
   "cell_type": "code",
   "execution_count": null,
   "metadata": {},
   "outputs": [],
   "source": [
    "        # Clean up resources. This includes the container and the temp files\n",
    "        block_blob_service.delete_container(container_name)\n",
    "        os.remove(full_path_to_file)\n",
    "        os.remove(full_path_to_file2)"
   ]
  },
  {
   "cell_type": "code",
   "execution_count": null,
   "metadata": {},
   "outputs": [],
   "source": []
  },
  {
   "cell_type": "code",
   "execution_count": null,
   "metadata": {},
   "outputs": [],
   "source": []
  }
 ],
 "metadata": {
  "kernelspec": {
   "display_name": "cropmask",
   "language": "python",
   "name": "cropmask"
  },
  "language_info": {
   "codemirror_mode": {
    "name": "ipython",
    "version": 3
   },
   "file_extension": ".py",
   "mimetype": "text/x-python",
   "name": "python",
   "nbconvert_exporter": "python",
   "pygments_lexer": "ipython3",
   "version": "3.7.1"
  }
 },
 "nbformat": 4,
 "nbformat_minor": 2
}
