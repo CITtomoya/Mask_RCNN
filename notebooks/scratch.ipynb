{
 "cells": [
  {
   "cell_type": "code",
   "execution_count": 1,
   "metadata": {},
   "outputs": [],
   "source": [
    "from cropmask.download import get_imagery as gi\n",
    "import datetime\n",
    "import yaml\n",
    "import time\n",
    "\n",
    "config_path = \"/home/ryan/work/azure_configs.yaml\"\n",
    "\n",
    "with open(config_path) as f:\n",
    "    configs = yaml.safe_load(f)\n",
    "    "
   ]
  },
  {
   "cell_type": "code",
   "execution_count": 2,
   "metadata": {},
   "outputs": [],
   "source": [
    "bbox = gi.get_bbox_from_wbd(6, 102100)"
   ]
  },
  {
   "cell_type": "code",
   "execution_count": 3,
   "metadata": {},
   "outputs": [],
   "source": [
    "scene_list = gi.get_scene_list(collection='LANDSAT_TM_C1',\n",
    "                     bbox=bbox,\n",
    "                     begin=datetime.datetime(2005,1,1),\n",
    "                     end=datetime.datetime(2006,1,1),\n",
    "                     max_results=300,\n",
    "                     max_cloud_cover=10) "
   ]
  },
  {
   "cell_type": "markdown",
   "metadata": {},
   "source": [
    "### This is the notebook that covers processing landsat and needs to be modularizedified https://github.com/ecohydro/CropMask_RCNN/blob/a2ebc4aac9acfc0a2b1cde6d278d67366f9b1c0e/notebooks/Nebraska_Label-Landsat_Tile_Align.ipynb\n",
    "The preprocess code is here but is messy and has wv2 code in it that can be tossed: https://github.com/ecohydro/CropMask_RCNN/blob/a2ebc4aac9acfc0a2b1cde6d278d67366f9b1c0e/notebooks/crops/preprocess.py"
   ]
  },
  {
   "cell_type": "code",
   "execution_count": 4,
   "metadata": {},
   "outputs": [],
   "source": [
    "pathrow_list_western_nb = ['032031']"
   ]
  },
  {
   "cell_type": "code",
   "execution_count": 5,
   "metadata": {},
   "outputs": [
    {
     "name": "stdout",
     "output_type": "stream",
     "text": [
      "{'tm5_collection': {'inputs': ['LT05_L1TP_032031_20050116_20160913_01_T1', 'LT05_L1TP_032031_20050217_20160912_01_T1', 'LT05_L1TP_032031_20050305_20160913_01_T1', 'LT05_L1TP_032031_20050406_20160912_01_T1', 'LT05_L1TP_032031_20050711_20160912_01_T1', 'LT05_L1TP_032031_20050828_20160912_01_T1', 'LT05_L1TP_032031_20050929_20160911_01_T1', 'LT05_L1TP_032031_20051015_20160911_01_T1', 'LT05_L1TP_032031_20051031_20160911_01_T1'], 'products': ['source_metadata', 'l1', 'toa', 'bt', 'sr', 'sr_ndvi', 'sr_evi', 'sr_savi', 'sr_msavi', 'sr_ndmi', 'sr_nbr', 'sr_nbr2', 'stats', 'pixel_qa', 'stalg_single_channel', 'reanalsrc_narr', 'reanalsrc_merra2', 'reanalsrc_fp', 'reanalsrc_fpit']}}\n"
     ]
    }
   ],
   "source": [
    "scene_list = gi.filter_scenes_by_path_row(scene_list, pathrow_list_western_nb)"
   ]
  },
  {
   "cell_type": "code",
   "execution_count": 6,
   "metadata": {},
   "outputs": [],
   "source": [
    "product_list = configs['download']['product_list']"
   ]
  },
  {
   "cell_type": "code",
   "execution_count": 9,
   "metadata": {},
   "outputs": [],
   "source": [
    "order = gi.submit_order(scene_list, product_list)"
   ]
  },
  {
   "cell_type": "code",
   "execution_count": null,
   "metadata": {},
   "outputs": [
    {
     "name": "stdout",
     "output_type": "stream",
     "text": [
      "espa-ravery@ucsb.edu-04102019-231045-081: ordered\n",
      "espa-ravery@ucsb.edu-04102019-231045-081: ordered\n",
      "espa-ravery@ucsb.edu-04102019-231045-081: ordered\n"
     ]
    }
   ],
   "source": [
    "while order.is_complete==False:\n",
    "# Orders have their own class with attributes and methods\n",
    "    print('%s: %s' % (order.orderid, order.status))\n",
    "    time.sleep(300)\n",
    "order.download_all_complete(path=\"/home/ryan/work/tmp/\", unpack=True)\n",
    "print(\"Order downloaded\")"
   ]
  }
 ],
 "metadata": {
  "kernelspec": {
   "display_name": "Python [conda env:py36]",
   "language": "python",
   "name": "conda-env-py36-py"
  },
  "language_info": {
   "codemirror_mode": {
    "name": "ipython",
    "version": 3
   },
   "file_extension": ".py",
   "mimetype": "text/x-python",
   "name": "python",
   "nbconvert_exporter": "python",
   "pygments_lexer": "ipython3",
   "version": "3.6.7"
  }
 },
 "nbformat": 4,
 "nbformat_minor": 2
}
