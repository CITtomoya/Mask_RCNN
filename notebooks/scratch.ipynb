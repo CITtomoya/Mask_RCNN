{
 "cells": [
  {
   "cell_type": "code",
   "execution_count": 28,
   "metadata": {},
   "outputs": [],
   "source": [
    "from azure.storage.file.fileservice import FileService\n",
    "import yaml\n",
    "import os\n",
    "\n",
    "def make_regional_directories(config_path):\n",
    "    \"\"\"\n",
    "    Sets up the directories on Azure File Storage for a \n",
    "    particular region. Requires a config file parsed from \n",
    "    yaml.\n",
    "    \n",
    "    Args:\n",
    "        config_path (str): Path to a parsed config that contains\n",
    "        the name of the region. Can be a state, country, \n",
    "        watershed, etc. but be specific to some well defined \n",
    "        boundary.\n",
    "    Returns:\n",
    "        Nothing, but creates the directory structure on \n",
    "        azure\n",
    "    \"\"\"\n",
    "    \n",
    "    with open(config_path) as f:\n",
    "        configs = yaml.safe_load(f)\n",
    "    \n",
    "    file_service = FileService(configs['storage']['storage_name'], configs['storage']['storage_key'])\n",
    "    \n",
    "    region_path = os.path.join(configs['storage']['region_dir'],configs['storage']['region_name'])\n",
    "    # anything downloaded here should be moved and processed later to the l5, etc folders on file store\n",
    "    landsat_dwnld_path = os.path.join(region_path, \"landsat_downloaded\") \n",
    "    # these folders will contain tiled Landsat imagery\n",
    "    landsat_path = os.path.join(region_path, \"landsat_processed\")\n",
    "    # rgb pngs of landsat for labeling, pre stretched\n",
    "    landsat_pngs_path = os.path.join(region_path, \"landsat_pngs\")\n",
    "    # should there be a folder for vott projects? or just one per region? or one per image source per region?\n",
    "    \n",
    "    file_service.create_directory(configs['storage']['share_name'], region_path)\n",
    "    file_service.create_directory(configs['storage']['share_name'], landsat_path)\n",
    "    file_service.create_directory(configs['storage']['share_name'], landsat_pngs_path)\n",
    "    \n",
    "    print(\"done creating region directory\")"
   ]
  },
  {
   "cell_type": "code",
   "execution_count": 32,
   "metadata": {},
   "outputs": [
    {
     "name": "stdout",
     "output_type": "stream",
     "text": [
      "done creating region directory\n"
     ]
    }
   ],
   "source": [
    "make_regional_project(configs)"
   ]
  },
  {
   "cell_type": "code",
   "execution_count": null,
   "metadata": {},
   "outputs": [],
   "source": []
  }
 ],
 "metadata": {
  "kernelspec": {
   "display_name": "Python [conda env:py36]",
   "language": "python",
   "name": "conda-env-py36-py"
  },
  "language_info": {
   "codemirror_mode": {
    "name": "ipython",
    "version": 3
   },
   "file_extension": ".py",
   "mimetype": "text/x-python",
   "name": "python",
   "nbconvert_exporter": "python",
   "pygments_lexer": "ipython3",
   "version": "3.6.7"
  }
 },
 "nbformat": 4,
 "nbformat_minor": 2
}
