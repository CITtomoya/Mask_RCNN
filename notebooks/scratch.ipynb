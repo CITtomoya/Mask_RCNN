{
 "cells": [
  {
   "cell_type": "code",
   "execution_count": null,
   "metadata": {},
   "outputs": [],
   "source": [
    "from cropmask.download import get_imagery as gi\n",
    "import datetime\n",
    "import yaml\n",
    "import time\n",
    "\n",
    "config_path = \"/home/ryan/work/azure_configs.yaml\"\n",
    "\n",
    "with open(config_path) as f:\n",
    "    configs = yaml.safe_load(f)\n",
    "    "
   ]
  },
  {
   "cell_type": "code",
   "execution_count": null,
   "metadata": {},
   "outputs": [],
   "source": [
    "bbox = gi.get_bbox_from_wbd(6, 102100)"
   ]
  },
  {
   "cell_type": "code",
   "execution_count": null,
   "metadata": {},
   "outputs": [],
   "source": [
    "scene_list = gi.get_scene_list(collection='LANDSAT_TM_C1',\n",
    "                     bbox=bbox,\n",
    "                     begin=datetime.datetime(2005,1,1),\n",
    "                     end=datetime.datetime(2006,1,1),\n",
    "                     max_results=300,\n",
    "                     max_cloud_cover=10) "
   ]
  },
  {
   "cell_type": "code",
   "execution_count": null,
   "metadata": {},
   "outputs": [],
   "source": [
    "pathrow_list_western_nb = ['032031']"
   ]
  },
  {
   "cell_type": "code",
   "execution_count": null,
   "metadata": {},
   "outputs": [],
   "source": [
    "scene_list = gi.filter_scenes_by_path_row(scene_list, pathrow_list_western_nb)"
   ]
  },
  {
   "cell_type": "code",
   "execution_count": null,
   "metadata": {},
   "outputs": [],
   "source": [
    "product_list = configs['download']['product_list']"
   ]
  },
  {
   "cell_type": "code",
   "execution_count": null,
   "metadata": {},
   "outputs": [],
   "source": [
    "order = gi.submit_order(scene_list, product_list)"
   ]
  },
  {
   "cell_type": "code",
   "execution_count": null,
   "metadata": {},
   "outputs": [],
   "source": [
    "gi.download_order()"
   ]
  }
 ],
 "metadata": {
  "kernelspec": {
   "display_name": "Python [conda env:py36]",
   "language": "python",
   "name": "conda-env-py36-py"
  },
  "language_info": {
   "codemirror_mode": {
    "name": "ipython",
    "version": 3
   },
   "file_extension": ".py",
   "mimetype": "text/x-python",
   "name": "python",
   "nbconvert_exporter": "python",
   "pygments_lexer": "ipython3",
   "version": "3.6.7"
  }
 },
 "nbformat": 4,
 "nbformat_minor": 2
}
