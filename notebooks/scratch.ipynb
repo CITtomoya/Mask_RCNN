{
 "cells": [
  {
   "cell_type": "code",
   "execution_count": 1,
   "metadata": {},
   "outputs": [
    {
     "ename": "ModuleNotFoundError",
     "evalue": "No module named 'cropmask'",
     "output_type": "error",
     "traceback": [
      "\u001b[0;31m---------------------------------------------------------------------------\u001b[0m",
      "\u001b[0;31mModuleNotFoundError\u001b[0m                       Traceback (most recent call last)",
      "\u001b[0;32m<ipython-input-1-5494e10194bc>\u001b[0m in \u001b[0;36m<module>\u001b[0;34m\u001b[0m\n\u001b[0;32m----> 1\u001b[0;31m \u001b[0;32mimport\u001b[0m \u001b[0mcropmask\u001b[0m\u001b[0;34m\u001b[0m\u001b[0;34m\u001b[0m\u001b[0m\n\u001b[0m",
      "\u001b[0;31mModuleNotFoundError\u001b[0m: No module named 'cropmask'"
     ]
    }
   ],
   "source": [
    "import cropmask"
   ]
  },
  {
   "cell_type": "code",
   "execution_count": 38,
   "metadata": {},
   "outputs": [
    {
     "name": "stdout",
     "output_type": "stream",
     "text": [
      "{'tm5_collection': {'inputs': ['LT05_L1GS_035031_20050105_20160913_01_T2', 'LT05_L1TP_033031_20050107_20160912_01_T1', 'LT05_L1TP_033032_20050107_20160912_01_T1', 'LT05_L1TP_031031_20050109_20160913_01_T1', 'LT05_L1GS_031032_20050109_20160913_01_T2', 'LT05_L1TP_036030_20050112_20160912_01_T1', 'LT05_L1TP_036031_20050112_20160913_01_T1', 'LT05_L1TP_036032_20050112_20160913_01_T1', 'LT05_L1TP_034032_20050114_20160912_01_T1', 'LT05_L1TP_032030_20050116_20160913_01_T1', 'LT05_L1TP_032031_20050116_20160913_01_T1', 'LT05_L1TP_037031_20050119_20160913_01_T1', 'LT05_L1TP_037032_20050119_20160913_01_T1', 'LT05_L1TP_035030_20050121_20160912_01_T1', 'LT05_L1TP_035031_20050121_20160912_01_T1', 'LT05_L1TP_035032_20050121_20160913_01_T1', 'LT05_L1TP_031031_20050125_20160913_01_T1', 'LT05_L1TP_032030_20050201_20160912_01_T1', 'LT05_L1TP_030032_20050203_20160912_01_T1', 'LT05_L1TP_037030_20050204_20160912_01_T1', 'LT05_L1TP_037031_20050204_20160912_01_T1', 'LT05_L1TP_037032_20050204_20160912_01_T1', 'LT05_L1TP_031032_20050210_20160912_01_T1', 'LT05_L1TP_036030_20050213_20160912_01_T1', 'LT05_L1TP_032030_20050217_20160912_01_T1', 'LT05_L1TP_032031_20050217_20160912_01_T1', 'LT05_L1TP_032032_20050217_20160912_01_T1', 'LT05_L1TP_033030_20050224_20160912_01_T1', 'LT05_L1TP_033031_20050224_20160912_01_T1', 'LT05_L1TP_033032_20050224_20160912_01_T1', 'LT05_L1TP_031030_20050226_20160913_01_T1', 'LT05_L1TP_034030_20050303_20160912_01_T1', 'LT05_L1TP_034031_20050303_20160912_01_T1', 'LT05_L1TP_034032_20050303_20160912_01_T1', 'LT05_L1TP_032030_20050305_20160912_01_T1', 'LT05_L1TP_032031_20050305_20160913_01_T1', 'LT05_L1TP_032032_20050305_20160912_01_T1', 'LT05_L1TP_033032_20050312_20160912_01_T1', 'LT05_L1TP_035030_20050326_20160912_01_T1', 'LT05_L1TP_032030_20050406_20160912_01_T1', 'LT05_L1TP_032031_20050406_20160912_01_T1', 'LT05_L1TP_032032_20050406_20160912_01_T1', 'LT05_L1TP_033030_20050413_20160912_01_T1', 'LT05_L1TP_033031_20050413_20160912_01_T1', 'LT05_L1TP_033032_20050413_20160912_01_T1', 'LT05_L1TP_035030_20050513_20160912_01_T1', 'LT05_L1TP_033030_20050515_20160912_01_T1', 'LT05_L1TP_033031_20050515_20160912_01_T1', 'LT05_L1TP_033032_20050515_20160912_01_T1', 'LT05_L1TP_036030_20050520_20160912_01_T1', 'LT05_L1TP_036031_20050520_20160912_01_T1', 'LT05_L1TP_036032_20050520_20160912_01_T1', 'LT05_L1TP_034030_20050522_20160912_01_T1', 'LT05_L1TP_034031_20050522_20160912_01_T1', 'LT05_L1TP_034032_20050522_20160912_01_T1', 'LT05_L1TP_037030_20050527_20160912_01_T1', 'LT05_L1TP_037031_20050527_20160912_01_T1', 'LT05_L1TP_037032_20050527_20160912_01_T1', 'LT05_L1TP_033031_20050531_20160912_01_T1', 'LT05_L1TP_033032_20050531_20160912_01_T1', 'LT05_L1TP_035030_20050614_20160912_01_T1', 'LT05_L1TP_035031_20050614_20160912_01_T1', 'LT05_L1TP_035032_20050614_20160912_01_T1', 'LT05_L1TP_033030_20050616_20160912_01_T1', 'LT05_L1TP_033032_20050616_20160912_01_T1', 'LT05_L1TP_031030_20050618_20160912_01_T1', 'LT05_L1TP_036030_20050621_20160912_01_T1', 'LT05_L1TP_036031_20050621_20160912_01_T1', 'LT05_L1TP_034030_20050623_20160912_01_T1', 'LT05_L1TP_030032_20050627_20160912_01_T1', 'LT05_L1TP_035031_20050630_20160912_01_T1', 'LT05_L1TP_035032_20050630_20160912_01_T1', 'LT05_L1TP_033030_20050702_20160912_01_T1', 'LT05_L1TP_033031_20050702_20160912_01_T1', 'LT05_L1TP_033032_20050702_20160912_01_T1', 'LT05_L1TP_036030_20050707_20160912_01_T1', 'LT05_L1TP_036032_20050707_20160912_01_T1', 'LT05_L1TP_032031_20050711_20160912_01_T1', 'LT05_L1TP_032032_20050711_20160912_01_T1', 'LT05_L1TP_030032_20050713_20160912_01_T1', 'LT05_L1TP_037030_20050714_20160912_01_T1', 'LT05_L1TP_037031_20050714_20160912_01_T1', 'LT05_L1TP_037032_20050714_20160912_01_T1', 'LT05_L1TP_035031_20050716_20160912_01_T1', 'LT05_L1TP_035032_20050716_20160912_01_T1', 'LT05_L1TP_033030_20050718_20160912_01_T1', 'LT05_L1TP_033031_20050718_20160912_01_T1', 'LT05_L1TP_033032_20050718_20160912_01_T1', 'LT05_L1TP_031030_20050720_20160912_01_T1', 'LT05_L1TP_031031_20050720_20160912_01_T1', 'LT05_L1TP_031032_20050720_20160912_01_T1', 'LT05_L1TP_032030_20050727_20160912_01_T1', 'LT05_L1TP_032032_20050727_20160912_01_T1', 'LT05_L1TP_035030_20050801_20160912_01_T1', 'LT05_L1TP_031030_20050805_20160912_01_T1', 'LT05_L1TP_031031_20050805_20160912_01_T1', 'LT05_L1TP_037030_20050815_20160912_01_T1', 'LT05_L1TP_037031_20050815_20160912_01_T1', 'LT05_L1TP_033031_20050819_20160912_01_T1', 'LT05_L1TP_033032_20050819_20160912_01_T1', 'LT05_L1TP_031030_20050821_20160912_01_T1', 'LT05_L1TP_036030_20050824_20160912_01_T1', 'LT05_L1TP_036031_20050824_20160912_01_T1', 'LT05_L1TP_034030_20050826_20160912_01_T1', 'LT05_L1TP_034031_20050826_20160912_01_T1', 'LT05_L1TP_032030_20050828_20160912_01_T1', 'LT05_L1TP_032031_20050828_20160912_01_T1', 'LT05_L1TP_032032_20050828_20160912_01_T1', 'LT05_L1TP_030032_20050830_20160912_01_T1', 'LT05_L1TP_037030_20050831_20160912_01_T1', 'LT05_L1TP_037031_20050831_20160912_01_T1', 'LT05_L1TP_037032_20050831_20160912_01_T1', 'LT05_L1TP_035030_20050902_20160912_01_T1', 'LT05_L1TP_035031_20050902_20160912_01_T1', 'LT05_L1TP_035032_20050902_20160912_01_T1', 'LT05_L1TP_034030_20050911_20160912_01_T1', 'LT05_L1TP_034031_20050911_20160912_01_T1', 'LT05_L1TP_034032_20050911_20160912_01_T1', 'LT05_L1TP_030032_20050915_20160912_01_T1', 'LT05_L1TP_037031_20050916_20160912_01_T1', 'LT05_L1TP_035031_20050918_20160912_01_T1', 'LT05_L1TP_035032_20050918_20160912_01_T1', 'LT05_L1TP_033030_20050920_20160912_01_T1', 'LT05_L1TP_033031_20050920_20160912_01_T1', 'LT05_L1TP_033032_20050920_20160912_01_T1', 'LT05_L1TP_036032_20050925_20160911_01_T1', 'LT05_L1TP_034030_20050927_20160912_01_T1', 'LT05_L1TP_032031_20050929_20160911_01_T1', 'LT05_L1TP_033030_20051006_20160911_01_T1', 'LT05_L1TP_031031_20051008_20160911_01_T1', 'LT05_L1TP_031032_20051008_20160911_01_T1', 'LT05_L1TP_034032_20051013_20160911_01_T1', 'LT05_L1TP_032030_20051015_20160911_01_T1', 'LT05_L1TP_032031_20051015_20160911_01_T1', 'LT05_L1TP_032032_20051015_20160911_01_T1', 'LT05_L1TP_030032_20051017_20160911_01_T1', 'LT05_L1TP_033032_20051022_20160911_01_T1', 'LT05_L1TP_031030_20051024_20160911_01_T1', 'LT05_L1TP_031031_20051024_20160911_01_T1', 'LT05_L1TP_031032_20051024_20160911_01_T1', 'LT05_L1TP_032030_20051031_20160911_01_T1', 'LT05_L1TP_032031_20051031_20160911_01_T1', 'LT05_L1TP_032032_20051031_20160911_01_T1', 'LT05_L1TP_030032_20051102_20160911_01_T1', 'LT05_L1TP_035030_20051105_20160911_01_T1', 'LT05_L1TP_033030_20051107_20160911_01_T1', 'LT05_L1TP_032032_20051116_20160911_01_T1', 'LT05_L1TP_030032_20051118_20160911_01_T1', 'LT05_L1TP_037030_20051119_20160911_01_T1', 'LT05_L1TP_037031_20051119_20160911_01_T1', 'LT05_L1TP_037032_20051119_20160911_01_T1', 'LT05_L1TP_035030_20051121_20160911_01_T1', 'LT05_L1TP_035032_20051121_20160911_01_T1', 'LT05_L1TP_033030_20051123_20160911_01_T1', 'LT05_L1TP_033031_20051123_20160911_01_T1', 'LT05_L1TP_033032_20051123_20160911_01_T1', 'LT05_L1TP_031032_20051125_20160911_01_T1'], 'products': ['source_metadata', 'l1', 'toa', 'bt', 'sr', 'sr_ndvi', 'sr_evi', 'sr_savi', 'sr_msavi', 'sr_ndmi', 'sr_nbr', 'sr_nbr2', 'stats', 'pixel_qa', 'stalg_single_channel', 'reanalsrc_narr', 'reanalsrc_merra2', 'reanalsrc_fp', 'reanalsrc_fpit']}}\n"
     ]
    }
   ],
   "source": [
    "\n",
    "\n",
    "# Parse the WBD Boundary dataset to get bbox for a single watershed\n",
    "# Pick a watershed using https://water.usgs.gov/wsc/map_index.html\n",
    "# the number of digits in the HUC ID is the second argument to the func\n",
    "bbox = get_bbox_from_wbd(WBD_PATH, 6, 101800)\n",
    "\n",
    "# Query the Usgs api to find scene intersecting with the spatio-temporal window\n",
    "# help(usgs.search)\n",
    "scene_list = get_scene_list(collection='LANDSAT_TM_C1',\n",
    "                     bbox=bbox,\n",
    "                     begin=datetime.datetime(2005,1,1),\n",
    "                     end=datetime.datetime(2006,1,1),\n",
    "                     max_results=300,\n",
    "                     max_cloud_cover=10) \n",
    "\n",
    "    \n",
    "\n",
    "\n",
    "\n"
   ]
  },
  {
   "cell_type": "code",
   "execution_count": null,
   "metadata": {},
   "outputs": [],
   "source": []
  },
  {
   "cell_type": "code",
   "execution_count": 37,
   "metadata": {},
   "outputs": [
    {
     "name": "stdout",
     "output_type": "stream",
     "text": [
      "Help on method search in module lsru:\n",
      "\n",
      "search(collection, bbox, begin=None, end=None, max_cloud_cover=100, months=None, starting_number=1, max_results=50000) method of lsru.Usgs instance\n",
      "    Perform a spatio temporal query on Landsat catalog\n",
      "    \n",
      "    Args:\n",
      "        collection (str): Landsat collection to query.\n",
      "            Use LANDSAT_8_C1, LANDSAT_ETM_C1 and LANDSAT_TM_C1 for OLI, ETM+,\n",
      "            and TM respectively\n",
      "        bbox (tuple): A bounding box in the form of a tuple (left, bottom,\n",
      "            right, top)\n",
      "        begin (datetime.datetime): Optional begin date\n",
      "        end (datetime.datetime): Optional end date\n",
      "        max_cloud_cover (int): Cloud cover threshold to use for the query\n",
      "        months (list): List of month indices (1,12) for only limiting the query\n",
      "            to these months\n",
      "        max_results (int): Maximum number of scenes to return\n",
      "        starting_number (int): Used to determine the result number to start\n",
      "            returning from. Is meant to be used when the total number of hits\n",
      "            is higher than ``max_results``, to return results in a paginated\n",
      "            fashion\n",
      "    \n",
      "    Example:\n",
      "        >>> from lsru import Usgs\n",
      "        >>> import datetime\n",
      "        >>> usgs = Usgs()\n",
      "        >>> usgs.login()\n",
      "        >>> scene_list = usgs.search(collection='LANDSAT_8_C1',\n",
      "        >>>                          bbox=(3.5, 43.4, 4, 44),\n",
      "        >>>                          begin=datetime.datetime(2012,1,1),\n",
      "        >>>                          end=datetime.datetime(2016,1,1))\n",
      "        >>> print(scene_list)\n",
      "    \n",
      "    \n",
      "    Returns:\n",
      "        list: List of scenes with complete metadata\n",
      "\n"
     ]
    }
   ],
   "source": [
    "help(usgs.search)"
   ]
  }
 ],
 "metadata": {
  "kernelspec": {
   "display_name": "Python [conda env:py36]",
   "language": "python",
   "name": "conda-env-py36-py"
  },
  "language_info": {
   "codemirror_mode": {
    "name": "ipython",
    "version": 3
   },
   "file_extension": ".py",
   "mimetype": "text/x-python",
   "name": "python",
   "nbconvert_exporter": "python",
   "pygments_lexer": "ipython3",
   "version": "3.6.7"
  }
 },
 "nbformat": 4,
 "nbformat_minor": 2
}
