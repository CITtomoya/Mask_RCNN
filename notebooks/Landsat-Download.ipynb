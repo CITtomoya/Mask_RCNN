{
 "cells": [
  {
   "cell_type": "markdown",
   "metadata": {},
   "source": [
    "Descartes doesn't have Landsat Surface Reflectance in Collection form, so we are using LSRU: https://github.com/ecohydro/lsru"
   ]
  },
  {
   "cell_type": "code",
   "execution_count": null,
   "metadata": {},
   "outputs": [],
   "source": [
    "import shapely as shp\n",
    "import geojson\n",
    "import geopandas as gpd\n",
    "import os\n",
    "from lsru import Usgs\n",
    "from lsru import Espa\n",
    "from pprint import pprint\n",
    "import datetime\n",
    "import time\n",
    "import yaml"
   ]
  },
  {
   "cell_type": "markdown",
   "metadata": {},
   "source": [
    "Download NHD water boundary from https://viewer.nationalmap.gov/basic/#productSearch\n",
    "\n",
    "and convert shapefiles to geojson with ogr2ogr (see bash-scripts folder). Then we can get the bounding box and possibly use the geojson later for other programmatic tools."
   ]
  },
  {
   "cell_type": "code",
   "execution_count": null,
   "metadata": {},
   "outputs": [],
   "source": [
    "WBD8 = gpd.read_file(wbd_national_path, driver='FileGDB', layer='WBDHU8')"
   ]
  },
  {
   "cell_type": "code",
   "execution_count": null,
   "metadata": {},
   "outputs": [],
   "source": [
    "bbox = list(WBD8[WBD8['NAME']==\"Upper North Platte\"].envelope.boundary.bounds.iloc[0])"
   ]
  },
  {
   "cell_type": "code",
   "execution_count": null,
   "metadata": {},
   "outputs": [],
   "source": [
    "usgs.get_collection_name(8)"
   ]
  },
  {
   "cell_type": "code",
   "execution_count": null,
   "metadata": {},
   "outputs": [],
   "source": [
    "help(usgs)"
   ]
  },
  {
   "cell_type": "code",
   "execution_count": null,
   "metadata": {},
   "outputs": [],
   "source": [
    "# Instantiate Usgs class and login. requires setting config with credentials\n",
    "usgs = Usgs()\n",
    "usgs.login()"
   ]
  },
  {
   "cell_type": "code",
   "execution_count": null,
   "metadata": {},
   "outputs": [],
   "source": [
    "# Instantiate Usgs class and login. requires setting config with credentials\n",
    "usgs = Usgs()\n",
    "usgs.login()\n",
    "\n",
    "# Query the Usgs api to find scene intersecting with the spatio-temporal window\n",
    "# help(usgs.search)\n",
    "scene_list = usgs.search(collection='LANDSAT_TM_C1',\n",
    "                         bbox=bbox,\n",
    "                         begin=datetime.datetime(2005,1,1),\n",
    "                         end=datetime.datetime(2006,1,1),\n",
    "                         max_results=20,\n",
    "                         max_cloud_cover=10)\n",
    "# Extract Landsat scene ids for each hit from the metadata\n",
    "scene_list = [x['displayId'] for x in scene_list]\n"
   ]
  },
  {
   "cell_type": "code",
   "execution_count": null,
   "metadata": {},
   "outputs": [],
   "source": [
    "filtered = scene_list"
   ]
  },
  {
   "cell_type": "markdown",
   "metadata": {},
   "source": [
    "Currently, best workflow is to check which path/rows intersect your boundary manually with https://landsat.usgs.gov/pathrow-shapefiles"
   ]
  },
  {
   "cell_type": "code",
   "execution_count": null,
   "metadata": {},
   "outputs": [],
   "source": [
    "## pathrow_list_scsp = ['037037','036037','035037', '035038', '036038'] #path rows for santa clara-sanpedro HUC-6 NHD WBD\n",
    "pathrow_list_western_nb = ['032031','033031']\n",
    "kept_scenes = []\n",
    "filtered = [scene for scene in scene_list if any(good_pathrow in scene for good_pathrow in pathrow_list_western_nb)]\n",
    "print(len(filtered))\n",
    "print(len(scene_list))"
   ]
  },
  {
   "cell_type": "code",
   "execution_count": null,
   "metadata": {},
   "outputs": [],
   "source": [
    "bad_dates = ['20160223']\n",
    "kept_scenes = []\n",
    "filtered = [scene for scene in filtered if not any(bad_date in scene for bad_date in bad_dates)]"
   ]
  },
  {
   "cell_type": "code",
   "execution_count": null,
   "metadata": {},
   "outputs": [],
   "source": [
    "filtered"
   ]
  },
  {
   "cell_type": "code",
   "execution_count": null,
   "metadata": {},
   "outputs": [],
   "source": [
    "espa.get_available_products(filtered)"
   ]
  },
  {
   "cell_type": "code",
   "execution_count": null,
   "metadata": {},
   "outputs": [],
   "source": [
    "# Instantiate Espa class\n",
    "espa = Espa()\n",
    "espa.get_available_products(filtered)\n",
    "# Place order (full scenes, no reprojection, sr and pixel_qa)\n",
    "order = espa.order(scene_list=filtered, products=['sr'])\n",
    "print(order.orderid)"
   ]
  },
  {
   "cell_type": "code",
   "execution_count": null,
   "metadata": {},
   "outputs": [],
   "source": [
    "help(espa)"
   ]
  },
  {
   "cell_type": "code",
   "execution_count": null,
   "metadata": {},
   "outputs": [],
   "source": [
    "espa = Espa()\n",
    "help(espa.orders[0])"
   ]
  },
  {
   "cell_type": "markdown",
   "metadata": {},
   "source": [
    "Only use this to check relatively small orders that are in the 10s of scenes. Orders in the 100s of scenes will take longer, particularly for Landsat 8 surface reflectance."
   ]
  },
  {
   "cell_type": "code",
   "execution_count": null,
   "metadata": {},
   "outputs": [],
   "source": [
    "for order in espa.orders:\n",
    "    while order.is_complete==False:\n",
    "    # Orders have their own class with attributes and methods\n",
    "        print('%s: %s' % (order.orderid, order.status))\n",
    "        time.sleep(120)"
   ]
  },
  {
   "cell_type": "code",
   "execution_count": null,
   "metadata": {},
   "outputs": [],
   "source": [
    "espa = Espa()\n"
   ]
  },
  {
   "cell_type": "code",
   "execution_count": null,
   "metadata": {},
   "outputs": [],
   "source": [
    "espa.orders"
   ]
  },
  {
   "cell_type": "code",
   "execution_count": null,
   "metadata": {},
   "outputs": [],
   "source": [
    "help(espa.orders[0].download_all_complete)"
   ]
  },
  {
   "cell_type": "code",
   "execution_count": null,
   "metadata": {},
   "outputs": [],
   "source": [
    "os.getcwd()"
   ]
  },
  {
   "cell_type": "code",
   "execution_count": null,
   "metadata": {},
   "outputs": [],
   "source": [
    "for order in espa.orders:\n",
    "    if order.is_complete:\n",
    "        order.download_all_complete(\"./data/landsat-8-sr/\", unpack=True)"
   ]
  },
  {
   "cell_type": "code",
   "execution_count": null,
   "metadata": {},
   "outputs": [],
   "source": [
    "import rasterio as rast\n",
    "import rasterio.plot as rsplot\n",
    "import geopandas as gpd\n",
    "src=rast.open(os.path.join(LANDSAT_DIR,\"LC08_L1TP_037037_20140112_20170307_01_T1_sr_band3.tif\"))\n",
    "fig,ax=plt.subplots()\n",
    "rsplot.show(src,ax=ax)\n",
    "\n",
    "plt.show()"
   ]
  },
  {
   "cell_type": "code",
   "execution_count": null,
   "metadata": {},
   "outputs": [],
   "source": []
  },
  {
   "cell_type": "code",
   "execution_count": null,
   "metadata": {},
   "outputs": [],
   "source": []
  },
  {
   "cell_type": "code",
   "execution_count": null,
   "metadata": {},
   "outputs": [],
   "source": []
  },
  {
   "cell_type": "code",
   "execution_count": null,
   "metadata": {},
   "outputs": [],
   "source": []
  },
  {
   "cell_type": "markdown",
   "metadata": {},
   "source": [
    "Below are some descartes labs methods for querying info and scenes, but Descartes doesn't have collection level 2 surface reflectance (only precollection, before April 2017)"
   ]
  },
  {
   "cell_type": "markdown",
   "metadata": {},
   "source": [
    "Use Descartes to view Landsat Scenes that intersect with the bbox."
   ]
  },
  {
   "cell_type": "code",
   "execution_count": null,
   "metadata": {},
   "outputs": [],
   "source": [
    "from descarteslabs.client.services import Metadata\n",
    "products = Metadata().available_products()\n",
    "products"
   ]
  },
  {
   "cell_type": "code",
   "execution_count": null,
   "metadata": {},
   "outputs": [],
   "source": [
    "clean_aoi_geometry = {}"
   ]
  },
  {
   "cell_type": "code",
   "execution_count": null,
   "metadata": {},
   "outputs": [],
   "source": [
    "coordinates = eval(watershed_bbox.to_json())['features'][0]['geometry']['coordinates'][0]\n",
    "for i,c in enumerate(coordinates):\n",
    "    coordinates[i]=tuple(c)\n",
    "coordinates = tuple(coordinates)\n",
    "clean_aoi_geometry['coordinates'] = (coordinates,)\n",
    "clean_aoi_geometry['type']='Polygon'"
   ]
  },
  {
   "cell_type": "code",
   "execution_count": null,
   "metadata": {},
   "outputs": [],
   "source": [
    "clean_aoi_geometry"
   ]
  },
  {
   "cell_type": "code",
   "execution_count": null,
   "metadata": {},
   "outputs": [],
   "source": []
  },
  {
   "cell_type": "code",
   "execution_count": null,
   "metadata": {},
   "outputs": [],
   "source": [
    "clean_aoi_geometry['coordinates']=eval(watershed_bbox.to_json())['features'][0]['geometry']['coordinates'][0]"
   ]
  },
  {
   "cell_type": "code",
   "execution_count": null,
   "metadata": {},
   "outputs": [],
   "source": [
    "clean_aoi_geometry['type']='Polygon'"
   ]
  },
  {
   "cell_type": "code",
   "execution_count": null,
   "metadata": {},
   "outputs": [],
   "source": [
    "clean_aoi_geometry"
   ]
  },
  {
   "cell_type": "code",
   "execution_count": null,
   "metadata": {},
   "outputs": [],
   "source": [
    "\n",
    "scenes, ctx = dl.scenes.search(clean_aoi_geometry,\n",
    "                              products=['landsat:LC08:PRE:TOAR'],\n",
    "                              start_datetime=\"2000-05-01\",\n",
    "                              end_datetime=\"2018-08-01\",\n",
    "                              limit=1000)"
   ]
  },
  {
   "cell_type": "code",
   "execution_count": null,
   "metadata": {},
   "outputs": [],
   "source": [
    "scenes.sorted(\"properties.date\")"
   ]
  },
  {
   "cell_type": "code",
   "execution_count": null,
   "metadata": {},
   "outputs": [],
   "source": [
    "for i in scenes.each.properties.id:\n",
    "    print(i)"
   ]
  }
 ],
 "metadata": {
  "kernelspec": {
   "display_name": "Python [conda env:geo]",
   "language": "python",
   "name": "conda-env-geo-py"
  },
  "language_info": {
   "codemirror_mode": {
    "name": "ipython",
    "version": 3
   },
   "file_extension": ".py",
   "mimetype": "text/x-python",
   "name": "python",
   "nbconvert_exporter": "python",
   "pygments_lexer": "ipython3",
   "version": "3.6.7"
  }
 },
 "nbformat": 4,
 "nbformat_minor": 2
}
