{
 "cells": [
  {
   "cell_type": "code",
   "execution_count": null,
   "metadata": {},
   "outputs": [],
   "source": [
    "import numpy as np\n",
    "from cropmask.datasets import ImageDataset"
   ]
  },
  {
   "cell_type": "code",
   "execution_count": null,
   "metadata": {},
   "outputs": [],
   "source": [
    "dataset = ImageDataset()\n",
    "dataset.load_imagery(dataset_dir=\"/mnt/azureml-filestore-896933ab-f4fd-42b2-a154-0abb35dfb0b0/landsat-1024-cp/\", subset=\"train\", image_source=\"landsat\", class_name=\"agriculture\", train_test_split_dir=\"/mnt/azureml-filestore-896933ab-f4fd-42b2-a154-0abb35dfb0b0/results/landsat-1024-cp/\")"
   ]
  },
  {
   "cell_type": "code",
   "execution_count": null,
   "metadata": {},
   "outputs": [],
   "source": [
    "dataset.prepare()"
   ]
  },
  {
   "cell_type": "code",
   "execution_count": null,
   "metadata": {},
   "outputs": [],
   "source": [
    "dataset.image_ids"
   ]
  },
  {
   "cell_type": "code",
   "execution_count": null,
   "metadata": {},
   "outputs": [],
   "source": [
    "len(dataset.image_info)"
   ]
  },
  {
   "cell_type": "code",
   "execution_count": null,
   "metadata": {},
   "outputs": [],
   "source": [
    "for i,j in enumerate(dataset.image_info):\n",
    "    if j['id'] == \"tile_2560-3072\":\n",
    "        print(i)\n",
    "        print(j)"
   ]
  },
  {
   "cell_type": "code",
   "execution_count": null,
   "metadata": {},
   "outputs": [],
   "source": [
    "mask, class_ids = dataset.load_mask(32)"
   ]
  },
  {
   "cell_type": "code",
   "execution_count": null,
   "metadata": {},
   "outputs": [],
   "source": [
    "class_ids"
   ]
  },
  {
   "cell_type": "code",
   "execution_count": null,
   "metadata": {},
   "outputs": [],
   "source": [
    "_idx = np.sum(mask, axis=(0, 1)) > 0"
   ]
  },
  {
   "cell_type": "code",
   "execution_count": null,
   "metadata": {},
   "outputs": [],
   "source": [
    "_idx"
   ]
  },
  {
   "cell_type": "code",
   "execution_count": null,
   "metadata": {},
   "outputs": [],
   "source": [
    "mask = mask[:, :, _idx]"
   ]
  },
  {
   "cell_type": "code",
   "execution_count": null,
   "metadata": {},
   "outputs": [],
   "source": [
    "class_ids = class_ids[_idx]"
   ]
  },
  {
   "cell_type": "code",
   "execution_count": null,
   "metadata": {},
   "outputs": [],
   "source": []
  },
  {
   "cell_type": "code",
   "execution_count": null,
   "metadata": {},
   "outputs": [],
   "source": [
    "import random\n",
    "import os\n",
    "import shutil\n",
    "import copy\n",
    "from skimage import measure\n",
    "from skimage import morphology as skim\n",
    "import skimage.io as skio\n",
    "import warnings\n",
    "import pandas as pd\n",
    "import numpy as np\n",
    "import pathlib\n",
    "import geopandas as gpd\n",
    "from rasterio import features, coords\n",
    "from rasterio.plot import reshape_as_raster\n",
    "import rasterio\n",
    "from shapely.geometry import shape\n",
    "from osgeo import gdal\n",
    "from itertools import product\n",
    "from rasterio import windows\n",
    "from multiprocessing.pool import ThreadPool\n",
    "from cropmask.label_prep import rio_bbox_to_polygon\n",
    "from cropmask.misc import parse_yaml, make_dirs\n",
    "from cropmask.grid import *"
   ]
  },
  {
   "cell_type": "code",
   "execution_count": null,
   "metadata": {},
   "outputs": [],
   "source": [
    "import cropmask.preprocess as pp\n",
    "from cropmask.misc import make_dirs, remove_dirs\n",
    "wflow = pp.PreprocessWorkflow(\"/home/ryan/work/CropMask_RCNN/cropmask/preprocess_config.yaml\", \n",
    "                                 \"/mnt/point/western_nebraska_landsat_scenes/LT050320312005082801T1-SC20190418222350/\",\n",
    "                                 \"/mnt/point/external/nebraska_pivots_projected.geojson\")"
   ]
  },
  {
   "cell_type": "code",
   "execution_count": null,
   "metadata": {},
   "outputs": [],
   "source": [
    "directory_list = wflow.setup_dirs()\n",
    "\n",
    "band_list = wflow.yaml_to_band_index()\n",
    "\n",
    "product_list = wflow.get_product_paths(band_list)\n",
    "\n",
    "stacked_arr = wflow.load_and_stack_bands(product_list)\n",
    "\n",
    "wflow.stack_and_save_bands()\n",
    "\n",
    "wflow.negative_buffer_and_small_filter(-31, 100)"
   ]
  },
  {
   "cell_type": "code",
   "execution_count": null,
   "metadata": {},
   "outputs": [],
   "source": [
    "from cropmask.sequential_grid import grid_images_rasterio_sequential"
   ]
  },
  {
   "cell_type": "code",
   "execution_count": null,
   "metadata": {},
   "outputs": [],
   "source": [
    "import time\n",
    "start = time.time()\n",
    "grid_images_rasterio_sequential('/mnt/point/landsat-1024-cp/stacked/LT05_L1TP_032031_20050828_20160912_01_T1_sr.tif', '/home/ryan/work/tmp/landsat_grid_imgs')\n",
    "stop = time.time()\n",
    "print(stop-start)"
   ]
  }
 ],
 "metadata": {
  "kernelspec": {
   "display_name": "cropmask",
   "language": "python",
   "name": "cropmask"
  },
  "language_info": {
   "codemirror_mode": {
    "name": "ipython",
    "version": 3
   },
   "file_extension": ".py",
   "mimetype": "text/x-python",
   "name": "python",
   "nbconvert_exporter": "python",
   "pygments_lexer": "ipython3",
   "version": "3.7.3"
  }
 },
 "nbformat": 4,
 "nbformat_minor": 2
}
