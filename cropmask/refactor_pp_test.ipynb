{
 "cells": [
  {
   "cell_type": "code",
   "execution_count": null,
   "metadata": {},
   "outputs": [],
   "source": []
  },
  {
   "cell_type": "code",
   "execution_count": null,
   "metadata": {},
   "outputs": [],
   "source": [
    "import random\n",
    "import os\n",
    "import shutil\n",
    "import copy\n",
    "from skimage import measure\n",
    "from skimage import morphology as skim\n",
    "import skimage.io as skio\n",
    "import warnings\n",
    "import pandas as pd\n",
    "import numpy as np\n",
    "import pathlib\n",
    "import geopandas as gpd\n",
    "from rasterio import features, coords\n",
    "from rasterio.plot import reshape_as_raster\n",
    "import rasterio\n",
    "from shapely.geometry import shape\n",
    "from osgeo import gdal\n",
    "from itertools import product\n",
    "from rasterio import windows\n",
    "from multiprocessing.pool import ThreadPool\n",
    "from cropmask.label_prep import rio_bbox_to_polygon\n",
    "from cropmask.misc import parse_yaml, make_dirs\n",
    "from cropmask import grid"
   ]
  },
  {
   "cell_type": "code",
   "execution_count": null,
   "metadata": {},
   "outputs": [],
   "source": [
    "import cropmask.preprocess as pp\n",
    "from cropmask.misc import make_dirs, remove_dirs\n",
    "wflow = pp.PreprocessWorkflow(\"/home/ryan/work/CropMask_RCNN/cropmask/preprocess_config.yaml\", \n",
    "                                 \"/mnt/point/western_nebraska_landsat_scenes/LT050320312005082801T1-SC20190418222350/\",\n",
    "                                 \"/mnt/point/external/nebraska_pivots_projected.geojson\")"
   ]
  },
  {
   "cell_type": "markdown",
   "metadata": {},
   "source": [
    "Need to see why the remove function causes label not found error "
   ]
  },
  {
   "cell_type": "code",
   "execution_count": null,
   "metadata": {},
   "outputs": [],
   "source": [
    "directory_list = wflow.setup_dirs()\n",
    "\n",
    "band_list = wflow.yaml_to_band_index()\n",
    "\n",
    "product_list = wflow.get_product_paths(band_list)\n",
    "\n",
    "stacked_arr = wflow.load_and_stack_bands(product_list)\n",
    "\n",
    "wflow.stack_and_save_bands()\n",
    "\n",
    "wflow.negative_buffer_and_small_filter(-31, 100)\n",
    "\n",
    "paths_tuple = wflow.grid_images()"
   ]
  },
  {
   "cell_type": "code",
   "execution_count": null,
   "metadata": {},
   "outputs": [],
   "source": [
    "paths_tuple"
   ]
  },
  {
   "cell_type": "code",
   "execution_count": null,
   "metadata": {},
   "outputs": [],
   "source": [
    "help(os.path.split)"
   ]
  },
  {
   "cell_type": "code",
   "execution_count": null,
   "metadata": {},
   "outputs": [],
   "source": [
    "wflow.move_chips_to_folder()\n",
    "\n",
    "wflow.connected_components()"
   ]
  },
  {
   "cell_type": "code",
   "execution_count": null,
   "metadata": {},
   "outputs": [],
   "source": [
    "gridded_label_ids = [os.path.splitext(i)[0] for i in os.listdir(wflow.GRIDDED_LABELS)]"
   ]
  },
  {
   "cell_type": "code",
   "execution_count": null,
   "metadata": {},
   "outputs": [],
   "source": [
    "gridded_img_ids = [os.path.splitext(i)[0] for i in os.listdir(wflow.GRIDDED_IMGS)]"
   ]
  },
  {
   "cell_type": "code",
   "execution_count": null,
   "metadata": {},
   "outputs": [],
   "source": []
  },
  {
   "cell_type": "code",
   "execution_count": null,
   "metadata": {},
   "outputs": [],
   "source": []
  },
  {
   "cell_type": "code",
   "execution_count": null,
   "metadata": {},
   "outputs": [],
   "source": []
  },
  {
   "cell_type": "code",
   "execution_count": null,
   "metadata": {},
   "outputs": [],
   "source": [
    "len(os.listdir(wflow.TRAIN))==len(os.listdir(wflow.GRIDDED_LABELS))"
   ]
  },
  {
   "cell_type": "code",
   "execution_count": null,
   "metadata": {},
   "outputs": [],
   "source": [
    "gridded_ids = [os.path.splitext(i)[0][:-6] for i in os.listdir(wflow.GRIDDED_LABELS)]"
   ]
  },
  {
   "cell_type": "code",
   "execution_count": null,
   "metadata": {},
   "outputs": [],
   "source": [
    "train_ids = os.listdir(wflow.TRAIN)"
   ]
  },
  {
   "cell_type": "code",
   "execution_count": null,
   "metadata": {},
   "outputs": [],
   "source": [
    "set(gridded_ids)-set(train_ids)"
   ]
  },
  {
   "cell_type": "code",
   "execution_count": null,
   "metadata": {},
   "outputs": [],
   "source": [
    "chip_img_paths = grid.grid_images_rasterio_controlled_threads(wflow.rasterized_label_path, wflow.GRIDDED_LABELS, output_name_template='tile_{}-{}.tif', grid_size=wflow.grid_size)"
   ]
  },
  {
   "cell_type": "code",
   "execution_count": null,
   "metadata": {},
   "outputs": [],
   "source": [
    "chip_img_paths"
   ]
  },
  {
   "cell_type": "code",
   "execution_count": null,
   "metadata": {},
   "outputs": [],
   "source": [
    "grid_result = [os.path.splitext(os.path.basename(i)) for i in chip_img_paths]"
   ]
  },
  {
   "cell_type": "code",
   "execution_count": null,
   "metadata": {},
   "outputs": [],
   "source": []
  },
  {
   "cell_type": "code",
   "execution_count": null,
   "metadata": {},
   "outputs": [],
   "source": [
    "for chip_id in os.listdir(self.GRIDDED_IMGS):\n",
    "    chip_id = os.path.splitext(chip_id)[0]"
   ]
  },
  {
   "cell_type": "code",
   "execution_count": null,
   "metadata": {},
   "outputs": [],
   "source": [
    "for chip_id in os.listdir(wflow.TRAIN):\n",
    "    chip_label_path = os.path.join(wflow.GRIDDED_LABELS, chip_id) + \"_label.tif\"\n",
    "    print(chip_label_path)"
   ]
  },
  {
   "cell_type": "code",
   "execution_count": null,
   "metadata": {},
   "outputs": [],
   "source": [
    "    arr = skio.imread(chip_label_path)\n",
    "    blob_labels = measure.label(arr, background=0)\n",
    "    blob_vals = np.unique(blob_labels)\n",
    "    # for imgs with no instances, create empty mask\n",
    "    if len(blob_vals) == 1:\n",
    "        img_chip_folder = os.path.join(wflow.TRAIN, chip_id)\n",
    "        img_chip_name = os.listdir(img_chip_folder)[0]\n",
    "        img_chip_path = os.path.join(img_chip_folder, img_chip_name)\n",
    "        arr = skio.imread(img_chip_path)\n",
    "        mask = np.zeros_like(arr[:, :, 0])\n",
    "        mask_folder = os.path.join(wflow.TRAIN, chip_id, \"mask\")\n",
    "        with warnings.catch_warnings():\n",
    "            warnings.simplefilter(\"ignore\", category=UserWarning)\n",
    "            skio.imsave(os.path.join(mask_folder, chip_id + \"_0.tif\"), mask)\n",
    "    else:\n",
    "        # only run connected comp if there is at least one instance\n",
    "        for blob_val in blob_vals[blob_vals != 0]:\n",
    "            labels_copy = blob_labels.copy()\n",
    "            labels_copy[blob_labels != blob_val] = 0\n",
    "            labels_copy[blob_labels == blob_val] = 1\n",
    "            label_name = chip_id + \"_label_\" + str(blob_val) + \".tif\"\n",
    "            mask_path = os.path.join(wflow.TRAIN, chip_id, \"mask\")\n",
    "            label_path = os.path.join(mask_path, label_name)\n",
    "            assert labels_copy.ndim == 2\n",
    "            with warnings.catch_warnings():\n",
    "                warnings.simplefilter(\"ignore\", category=UserWarning)\n",
    "                skio.imsave(label_path, labels_copy)"
   ]
  },
  {
   "cell_type": "code",
   "execution_count": null,
   "metadata": {},
   "outputs": [],
   "source": [
    "arr = skio.imread('/mnt/point/landsat-1024-cp/train/tile_1024-5120/image/tile_1024-5120_.tif')"
   ]
  },
  {
   "cell_type": "code",
   "execution_count": null,
   "metadata": {},
   "outputs": [],
   "source": [
    "%matplotlib inline\n",
    "skio.imshow(arr[:,:,0])"
   ]
  },
  {
   "cell_type": "code",
   "execution_count": null,
   "metadata": {},
   "outputs": [],
   "source": []
  },
  {
   "cell_type": "code",
   "execution_count": null,
   "metadata": {},
   "outputs": [],
   "source": []
  },
  {
   "cell_type": "code",
   "execution_count": null,
   "metadata": {},
   "outputs": [],
   "source": [
    "import os\n",
    "from itertools import product\n",
    "import rasterio as rio\n",
    "from rasterio import windows\n",
    "import threading\n",
    "\n",
    "from multiprocessing.dummy import Pool as ThreadPool"
   ]
  },
  {
   "cell_type": "code",
   "execution_count": null,
   "metadata": {},
   "outputs": [],
   "source": [
    "def get_tiles_for_threaded_map(ds, width=256, height=256):\n",
    "    \"\"\"\n",
    "        Returns a list of tuple where each tuple is the window and transform information for the image chip. \n",
    "    \"\"\"\n",
    "    nols, nrows = ds.meta['width'], ds.meta['height']\n",
    "    offsets = product(range(0, nols, width), range(0, nrows, height))\n",
    "    big_window = windows.Window(col_off=0, row_off=0, width=nols, height=nrows)\n",
    "    chip_list = []\n",
    "    def get_win(ds, col_off, row_off, width, height, big_window):\n",
    "        \"\"\"\n",
    "        Returns the bounds of each image chip/tile as a rasterio window object as well as the transform\n",
    "        as a tuple like (rasterio.windows.Window, transform)\n",
    "        \"\"\"\n",
    "        window =windows.Window(col_off=col_off, row_off=row_off, width=width, height=height).intersection(big_window)\n",
    "        transform = windows.transform(window, ds.transform)\n",
    "        return (window, transform)\n",
    "    chip_list = list(map(lambda x: get_win(ds, x[0], x[1], width, height, big_window), offsets))\n",
    "    return chip_list\n",
    "\n",
    "def write_by_window(ds, out_dir, output_name_template, meta, window, transform):\n",
    "    \"\"\"Writes an image chip given the source meta, the chip window, and the chip transform\"\"\"\n",
    "    meta['transform'] = transform\n",
    "    meta['width'], meta['height'] = window.width, window.height\n",
    "    outpath = os.path.join(out_dir,output_name_template.format(int(window.col_off), int(window.row_off)))\n",
    "    with rasterio.open(outpath, 'w', **meta) as outds:\n",
    "        outds.write(ds.read(window=window))\n",
    "    return outpath\n",
    "\n",
    "def map_threads(func, sequence, threads=4):\n",
    "    pool = ThreadPool(threads)\n",
    "    results = pool.map(func, sequence)\n",
    "    pool.close()\n",
    "    pool.join()\n",
    "    return results\n",
    "\n",
    "def grid_images_rasterio_controlled_threads(in_path, out_dir, output_name_template='tile_{}-{}.tif'):\n",
    "    \"\"\"\n",
    "    Reads in a Landsat scene and writes out square image chips using a thread pool.\n",
    "    \"\"\"    \n",
    "    with rasterio.open(in_path) as src:\n",
    "        meta = src.meta.copy()\n",
    "        chip_list = get_tiles_for_threaded_map(src)\n",
    "        out_paths = list(map_threads(lambda x: write_by_window(src, out_dir, output_name_template, meta, x[0], x[1]), chip_list))\n",
    "    return out_paths\n",
    "\n",
    "def grid_images_rasterio_regular_map(in_path, out_dir, output_name_template='tile_{}-{}.tif'):\n",
    "    \"\"\"\n",
    "    Grids up imagery to a variable size. Filters out imagery with too little usable data.\n",
    "    appends a random unique id to each tif and label pair, appending string 'label' to the \n",
    "    mask. Inspired by https://gis.stackexchange.com/questions/285499/how-to-split-multiband-image-into-image-tiles-using-rasterio\n",
    "    \"\"\"    \n",
    "    with rasterio.open(in_path) as src:\n",
    "        meta = src.meta.copy()\n",
    "        chip_list = get_tiles_for_threaded_map(src)\n",
    "        out_paths = list(map(lambda x: write_by_window(src, out_dir, output_name_template, meta, x[0], x[1]), chip_list))\n",
    "    return out_paths"
   ]
  },
  {
   "cell_type": "code",
   "execution_count": null,
   "metadata": {},
   "outputs": [],
   "source": [
    "%%time\n",
    "with rasterio.open(in_path) as inds:\n",
    "    chip_list = get_tiles_for_threaded_map(inds)"
   ]
  },
  {
   "cell_type": "code",
   "execution_count": null,
   "metadata": {},
   "outputs": [],
   "source": [
    "%%time\n",
    "out_paths = grid_images_rasterio_controlled_threads(wflow.stacked_path, wflow.GRIDDED_IMGS)"
   ]
  },
  {
   "cell_type": "code",
   "execution_count": null,
   "metadata": {},
   "outputs": [],
   "source": [
    "%%time\n",
    "out_paths = grid_images_rasterio_regular_map(wflow.stacked_path, wflow.GRIDDED_IMGS)"
   ]
  },
  {
   "cell_type": "code",
   "execution_count": null,
   "metadata": {},
   "outputs": [],
   "source": []
  },
  {
   "cell_type": "code",
   "execution_count": null,
   "metadata": {},
   "outputs": [],
   "source": []
  }
 ],
 "metadata": {
  "kernelspec": {
   "display_name": "cropmask",
   "language": "python",
   "name": "cropmask"
  },
  "language_info": {
   "codemirror_mode": {
    "name": "ipython",
    "version": 3
   },
   "file_extension": ".py",
   "mimetype": "text/x-python",
   "name": "python",
   "nbconvert_exporter": "python",
   "pygments_lexer": "ipython3",
   "version": "3.7.1"
  }
 },
 "nbformat": 4,
 "nbformat_minor": 2
}
