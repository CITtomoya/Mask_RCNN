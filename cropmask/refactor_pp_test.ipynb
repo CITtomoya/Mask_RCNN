{
 "cells": [
  {
   "cell_type": "code",
   "execution_count": null,
   "metadata": {},
   "outputs": [],
   "source": [
    "import random\n",
    "import os\n",
    "import shutil\n",
    "import copy\n",
    "from skimage import measure\n",
    "import skimage.io as skio\n",
    "import warnings\n",
    "import pandas as pd\n",
    "import numpy as np\n",
    "import pathlib\n",
    "import geopandas as gpd\n",
    "from rasterio import features, coords\n",
    "from rasterio.plot import reshape_as_raster\n",
    "import rasterio\n",
    "from shapely.geometry import shape\n",
    "from osgeo import gdal\n",
    "from itertools import product\n",
    "from rasterio import windows\n",
    "from multiprocessing.pool import ThreadPool\n",
    "from cropmask.label_prep import rio_bbox_to_polygon\n",
    "from cropmask.misc import parse_yaml, make_dirs\n",
    "from cropmask import grid"
   ]
  },
  {
   "cell_type": "code",
   "execution_count": null,
   "metadata": {},
   "outputs": [],
   "source": [
    "import cropmask.preprocess as pp\n",
    "from cropmask.misc import make_dirs, remove_dirs\n",
    "wflow = pp.PreprocessWorkflow(\"/home/ryan/work/CropMask_RCNN/cropmask/preprocess_config.yaml\", \n",
    "                                 \"/mnt/point/western_nebraska_landsat_scenes/LT050320312005082801T1-SC20190418222350/\",\n",
    "                                 \"/mnt/point/external/nebraska_pivots_projected.geojson\")"
   ]
  },
  {
   "cell_type": "code",
   "execution_count": null,
   "metadata": {},
   "outputs": [],
   "source": [
    "directory_list = wflow.setup_dirs()\n",
    "\n",
    "band_list = wflow.yaml_to_band_index()\n",
    "\n",
    "product_list = wflow.get_product_paths(band_list)\n",
    "\n",
    "stacked_arr = wflow.load_and_stack_bands(product_list)\n",
    "\n",
    "wflow.stack_and_save_bands()\n",
    "\n",
    "wflow.negative_buffer_and_small_filter(-31, 100)\n",
    "\n",
    "img_paths, label_paths = wflow.grid_images()\n",
    "\n",
    "wflow.remove_from_gridded(img_paths, label_paths)\n",
    "\n",
    "wflow.move_chips_to_folder()"
   ]
  },
  {
   "cell_type": "code",
   "execution_count": null,
   "metadata": {},
   "outputs": [],
   "source": [
    "wflow.connected_components()"
   ]
  },
  {
   "cell_type": "code",
   "execution_count": null,
   "metadata": {},
   "outputs": [],
   "source": []
  },
  {
   "cell_type": "code",
   "execution_count": null,
   "metadata": {},
   "outputs": [],
   "source": []
  },
  {
   "cell_type": "code",
   "execution_count": null,
   "metadata": {},
   "outputs": [],
   "source": [
    "import random\n",
    "import os\n",
    "import shutil\n",
    "import copy\n",
    "from skimage import measure\n",
    "from skimage import morphology as skim\n",
    "import skimage.io as skio\n",
    "import warnings\n",
    "import pandas as pd\n",
    "import numpy as np\n",
    "import pathlib\n",
    "import geopandas as gpd\n",
    "from rasterio import features, coords\n",
    "from rasterio.plot import reshape_as_raster\n",
    "import rasterio\n",
    "from shapely.geometry import shape\n",
    "from osgeo import gdal\n",
    "from itertools import product\n",
    "from rasterio import windows\n",
    "from multiprocessing.pool import ThreadPool\n",
    "from cropmask.label_prep import rio_bbox_to_polygon\n",
    "from cropmask.misc import parse_yaml, make_dirs\n",
    "from cropmask import grid"
   ]
  },
  {
   "cell_type": "code",
   "execution_count": null,
   "metadata": {},
   "outputs": [],
   "source": [
    "import cropmask.preprocess as pp\n",
    "from cropmask.misc import make_dirs, remove_dirs\n",
    "wflow = pp.PreprocessWorkflow(\"/home/ryan/work/CropMask_RCNN/cropmask/preprocess_config.yaml\", \n",
    "                                 \"/mnt/point/western_nebraska_landsat_scenes/LT050320312005082801T1-SC20190418222350/\",\n",
    "                                 \"/mnt/point/external/nebraska_pivots_projected.geojson\")"
   ]
  },
  {
   "cell_type": "code",
   "execution_count": null,
   "metadata": {},
   "outputs": [],
   "source": [
    "directory_list = wflow.setup_dirs()\n",
    "\n",
    "band_list = wflow.yaml_to_band_index()\n",
    "\n",
    "product_list = wflow.get_product_paths(band_list)\n",
    "\n",
    "stacked_arr = wflow.load_and_stack_bands(product_list)\n",
    "\n",
    "wflow.stack_and_save_bands()"
   ]
  },
  {
   "cell_type": "code",
   "execution_count": null,
   "metadata": {},
   "outputs": [],
   "source": [
    "%%time\n",
    "with rasterio.open(in_path) as inds:\n",
    "    chip_list = get_tiles_for_threaded_map(inds)"
   ]
  },
  {
   "cell_type": "code",
   "execution_count": null,
   "metadata": {},
   "outputs": [],
   "source": [
    "%load_ext autoreload\n",
    "%autoreload 2\n",
    "from cropmask import grid"
   ]
  },
  {
   "cell_type": "code",
   "execution_count": null,
   "metadata": {},
   "outputs": [],
   "source": [
    "wflow.stacked_path"
   ]
  },
  {
   "cell_type": "code",
   "execution_count": null,
   "metadata": {},
   "outputs": [],
   "source": [
    "wflow.GRIDDED_IMGS"
   ]
  },
  {
   "cell_type": "code",
   "execution_count": null,
   "metadata": {},
   "outputs": [],
   "source": [
    "%%time\n",
    "out_paths = grid.grid_images_rasterio_controlled_threads('/mnt/point/landsat-1024-cp/stacked/LT05_L1TP_032031_20050828_20160912_01_T1_sr.tif', '/mnt/point/landsat-1024-cp/landsat_grid_imgs')"
   ]
  },
  {
   "cell_type": "code",
   "execution_count": null,
   "metadata": {},
   "outputs": [],
   "source": [
    "%%time\n",
    "out_paths = grid_images_rasterio_regular_map(wflow.stacked_path, wflow.GRIDDED_IMGS)"
   ]
  },
  {
   "cell_type": "code",
   "execution_count": null,
   "metadata": {},
   "outputs": [],
   "source": []
  },
  {
   "cell_type": "code",
   "execution_count": null,
   "metadata": {},
   "outputs": [],
   "source": []
  }
 ],
 "metadata": {
  "kernelspec": {
   "display_name": "cropmask",
   "language": "python",
   "name": "cropmask"
  },
  "language_info": {
   "codemirror_mode": {
    "name": "ipython",
    "version": 3
   },
   "file_extension": ".py",
   "mimetype": "text/x-python",
   "name": "python",
   "nbconvert_exporter": "python",
   "pygments_lexer": "ipython3",
   "version": "3.7.1"
  }
 },
 "nbformat": 4,
 "nbformat_minor": 2
}
