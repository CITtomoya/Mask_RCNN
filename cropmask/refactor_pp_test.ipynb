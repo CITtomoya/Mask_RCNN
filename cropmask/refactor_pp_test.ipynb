{
 "cells": [
  {
   "cell_type": "code",
   "execution_count": null,
   "metadata": {},
   "outputs": [],
   "source": [
    "import random\n",
    "import os\n",
    "import shutil\n",
    "import copy\n",
    "from skimage import measure\n",
    "from skimage import morphology as skim\n",
    "import skimage.io as skio\n",
    "import warnings\n",
    "import pandas as pd\n",
    "import numpy as np\n",
    "import pathlib\n",
    "import geopandas as gpd\n",
    "from rasterio import features, coords\n",
    "from rasterio.plot import reshape_as_raster\n",
    "import rasterio\n",
    "from shapely.geometry import shape\n",
    "from osgeo import gdal\n",
    "\n",
    "from cropmask.misc import parse_yaml, make_dirs"
   ]
  },
  {
   "cell_type": "code",
   "execution_count": null,
   "metadata": {},
   "outputs": [],
   "source": [
    "from cropmask.preprocess import PreprocessWorkflow\n",
    "wflow = PreprocessWorkflow(\"/az-ml-container/configs/preprocess_config_pytest.yaml\", \n",
    "                                 \"/az-ml-container/western_nebraska_landsat_scenes_pytest/LT050320312005011601T1-SC20190418222311/\",\n",
    "                                 \"/az-ml-container/external_pytest/nebraska-center-pivots-2005/nbextent-clipped-to-western.geojson\")"
   ]
  },
  {
   "cell_type": "code",
   "execution_count": null,
   "metadata": {},
   "outputs": [],
   "source": [
    "directory_list = wflow.setup_dirs()\n",
    "\n",
    "band_list = wflow.yaml_to_band_index()\n",
    "\n",
    "product_list = wflow.get_product_paths(band_list)\n",
    "\n",
    "stacked_arr = wflow.load_and_stack_bands(product_list)\n",
    "\n",
    "wflow.stack_and_save_bands()"
   ]
  },
  {
   "cell_type": "code",
   "execution_count": null,
   "metadata": {},
   "outputs": [],
   "source": [
    "shp_frame = gpd.read_file(wflow.source_label_path)"
   ]
  },
  {
   "cell_type": "code",
   "execution_count": null,
   "metadata": {},
   "outputs": [],
   "source": [
    "# keeps the class of interest if it is there and the polygon of raster extent\n",
    "meta = wflow.meta.copy()\n",
    "meta.update({'count':1})\n",
    "tifname = os.path.splitext(os.path.basename(wflow.source_label_path))[0] + \".tif\"\n",
    "wflow.rasterized_label_path = os.path.join(wflow.NEG_BUFFERED, tifname)\n",
    "with rasterio.open(wflow.rasterized_label_path, \"w+\", **wflow.meta) as out:\n",
    "    out_arr = out.read(1)\n",
    "    shp_frame = shp_frame.loc[shp_frame.area > wflow.small_area_filter]\n",
    "    shp_frame[\"geometry\"] = shp_frame[\"geometry\"].buffer(wflow.neg_buffer)\n",
    "    shp_frame = shp_frame.loc[shp_frame.geometry.is_empty==False]\n",
    "    # https://gis.stackexchange.com/questions/151339/rasterize-a-shapefile-with-geopandas-or-fiona-python#151861\n",
    "    shapes = (\n",
    "        (geom.__geo_interface__, value)\n",
    "        for geom, value in zip(shp_frame.geometry, shp_frame.ID)\n",
    "    )\n",
    "\n",
    "    burned = features.rasterize(\n",
    "        shapes=shapes,\n",
    "        fill=0,\n",
    "        out_shape=(meta['height'],meta['width']),\n",
    "        transform=out.transform,\n",
    "        default_value=1,\n",
    "    )\n",
    "    burned[burned < 0] = 0\n",
    "    burned[burned > 0] = 1\n",
    "    burned = burned.astype(np.int16, copy=False)\n",
    "    out.write(burned, 1)"
   ]
  },
  {
   "cell_type": "code",
   "execution_count": null,
   "metadata": {},
   "outputs": [],
   "source": [
    "from rasterio.features import is_valid_geom"
   ]
  },
  {
   "cell_type": "code",
   "execution_count": null,
   "metadata": {},
   "outputs": [],
   "source": [
    "shp_frame['geometry'].iloc[3973].is_empty"
   ]
  },
  {
   "cell_type": "code",
   "execution_count": null,
   "metadata": {},
   "outputs": [],
   "source": [
    "    try: \n",
    "        img_chip_list = os.listdir(wflow.GRIDDED_IMGS)\n",
    "        label_chip_list = os.listdir(wflow.GRIDDED_LABELS)\n",
    "        assert img_chip_list # make sure that this is not empty\n",
    "        assert label_chip_list\n",
    "        remove_dirs(directory_list)\n",
    "    except AssertionError:\n",
    "        remove_dirs(directory_list)\n",
    "        print(\"The product list is empty, check this path: \"+ wflow.GRIDDED_IMGS)"
   ]
  },
  {
   "cell_type": "code",
   "execution_count": null,
   "metadata": {},
   "outputs": [],
   "source": []
  },
  {
   "cell_type": "code",
   "execution_count": null,
   "metadata": {},
   "outputs": [],
   "source": [
    "wflow.negative_buffer_and_small_filter(-31, 100)"
   ]
  },
  {
   "cell_type": "code",
   "execution_count": null,
   "metadata": {},
   "outputs": [],
   "source": []
  }
 ],
 "metadata": {
  "kernelspec": {
   "display_name": "cropmask",
   "language": "python",
   "name": "cropmask"
  },
  "language_info": {
   "codemirror_mode": {
    "name": "ipython",
    "version": 3
   },
   "file_extension": ".py",
   "mimetype": "text/x-python",
   "name": "python",
   "nbconvert_exporter": "python",
   "pygments_lexer": "ipython3",
   "version": "3.7.1"
  }
 },
 "nbformat": 4,
 "nbformat_minor": 2
}
