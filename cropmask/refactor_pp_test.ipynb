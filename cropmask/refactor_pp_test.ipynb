{
 "cells": [
  {
   "cell_type": "code",
   "execution_count": null,
   "metadata": {},
   "outputs": [],
   "source": [
    "import random\n",
    "import os\n",
    "import shutil\n",
    "import copy\n",
    "from skimage import measure\n",
    "from skimage import morphology as skim\n",
    "import skimage.io as skio\n",
    "import warnings\n",
    "import pandas as pd\n",
    "import numpy as np\n",
    "import pathlib\n",
    "import geopandas as gpd\n",
    "from rasterio import features, coords\n",
    "from rasterio.plot import reshape_as_raster\n",
    "import rasterio\n",
    "from shapely.geometry import shape\n",
    "from osgeo import gdal\n",
    "from itertools import product\n",
    "from rasterio import windows\n",
    "from multiprocessing.pool import ThreadPool\n",
    "from cropmask.label_prep import rio_bbox_to_polygon\n",
    "from cropmask.misc import parse_yaml, make_dirs\n",
    "from cropmask.grid import *"
   ]
  },
  {
   "cell_type": "code",
   "execution_count": null,
   "metadata": {},
   "outputs": [],
   "source": [
    "import cropmask.preprocess as pp\n",
    "from cropmask.misc import make_dirs, remove_dirs\n",
    "wflow = pp.PreprocessWorkflow(\"/home/ryan/work/CropMask_RCNN/cropmask/preprocess_config.yaml\", \n",
    "                                 \"/mnt/point/western_nebraska_landsat_scenes/LT050320312005082801T1-SC20190418222350/\",\n",
    "                                 \"/mnt/point/external/nebraska_pivots_projected.geojson\")"
   ]
  },
  {
   "cell_type": "code",
   "execution_count": null,
   "metadata": {},
   "outputs": [],
   "source": [
    "%load_ext autoreload\n",
    "%autoreload 2\n",
    "from cropmask import grid"
   ]
  },
  {
   "cell_type": "code",
   "execution_count": null,
   "metadata": {},
   "outputs": [],
   "source": [
    "in_path, out_dir = '/mnt/point/landsat-1024-cp/stacked/LT05_L1TP_032031_20050828_20160912_01_T1_sr.tif', '/mnt/point/landsat-1024-cp/landsat_grid_imgs'\n",
    "grid_size = 512\n",
    "output_name_template='tile_{}-{}.tif'\n"
   ]
  },
  {
   "cell_type": "code",
   "execution_count": null,
   "metadata": {},
   "outputs": [],
   "source": [
    "with rasterio.open(in_path, shared=False) as src:\n",
    "    chip_list = get_tiles_for_threaded_map(src, width=grid_size, height=grid_size)\n",
    "chunk_list = chunk_chips(chip_list, 4) # all possible chips, gets chunked into list of lists of chips\n",
    "out_paths = [] \n",
    "chip_list=chunk_list[0]"
   ]
  },
  {
   "cell_type": "code",
   "execution_count": null,
   "metadata": {},
   "outputs": [],
   "source": [
    "chip_list"
   ]
  },
  {
   "cell_type": "code",
   "execution_count": null,
   "metadata": {},
   "outputs": [],
   "source": [
    "outpaths = []\n",
    "with rasterio.open(in_path, shared=False) as ds:\n",
    "\n",
    "    for chip in chip_list:\n",
    "        window, transform = chip\n",
    "        ds.meta['transform'] = transform\n",
    "        ds.meta['width'], ds.meta['height'] = window.width, window.height\n",
    "        outpath = os.path.join(out_dir,output_name_template.format(int(window.col_off), int(window.row_off)))\n",
    "        with rasterio.open(outpath, 'w', **ds.meta, shared=False) as outds:\n",
    "            outds.write(ds.read(window=window))\n",
    "        outpaths.append(outpath)\n",
    "print(outpaths)"
   ]
  },
  {
   "cell_type": "code",
   "execution_count": null,
   "metadata": {},
   "outputs": [],
   "source": [
    "write_by_window(in_path, out_dir, output_name_template='tile_{}-{}.tif',chip_list=chunk_list[0] )"
   ]
  },
  {
   "cell_type": "code",
   "execution_count": null,
   "metadata": {},
   "outputs": [],
   "source": [
    "out_paths.extend(list(map_threads(lambda x: write_by_window(in_path, out_dir, output_name_template, x), chunk_list))) "
   ]
  },
  {
   "cell_type": "code",
   "execution_count": null,
   "metadata": {},
   "outputs": [],
   "source": [
    "%%time\n",
    "grid_images_rasterio_controlled_threads('/mnt/point/landsat-1024-cp/stacked/LT05_L1TP_032031_20050828_20160912_01_T1_sr.tif', '/mnt/point/landsat-1024-cp/landsat_grid_imgs', MAX_THREADS = 100)"
   ]
  },
  {
   "cell_type": "code",
   "execution_count": null,
   "metadata": {},
   "outputs": [],
   "source": []
  },
  {
   "cell_type": "code",
   "execution_count": null,
   "metadata": {},
   "outputs": [],
   "source": []
  }
 ],
 "metadata": {
  "kernelspec": {
   "display_name": "cropmask",
   "language": "python",
   "name": "cropmask"
  },
  "language_info": {
   "codemirror_mode": {
    "name": "ipython",
    "version": 3
   },
   "file_extension": ".py",
   "mimetype": "text/x-python",
   "name": "python",
   "nbconvert_exporter": "python",
   "pygments_lexer": "ipython3",
   "version": "3.7.1"
  }
 },
 "nbformat": 4,
 "nbformat_minor": 2
}
