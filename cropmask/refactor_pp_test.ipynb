{
 "cells": [
  {
   "cell_type": "code",
   "execution_count": 1,
   "metadata": {},
   "outputs": [],
   "source": [
    "import random\n",
    "import os\n",
    "import shutil\n",
    "import copy\n",
    "from skimage import measure\n",
    "from skimage import morphology as skim\n",
    "import skimage.io as skio\n",
    "import warnings\n",
    "import pandas as pd\n",
    "import numpy as np\n",
    "import pathlib\n",
    "import geopandas as gpd\n",
    "from rasterio import features, coords\n",
    "from rasterio.plot import reshape_as_raster\n",
    "import rasterio\n",
    "from shapely.geometry import shape\n",
    "from osgeo import gdal\n",
    "\n",
    "from cropmask.misc import parse_yaml, make_dirs\n",
    "\n",
    "from cropmask.preprocess import PreprocessWorkflow\n",
    "wflow = PreprocessWorkflow(\"/az-ml-container/configs/preprocess_config_pytest.yaml\", \n",
    "                                 \"/az-ml-container/western_nebraska_landsat_scenes_pytest/LT050320312005011601T1-SC20190418222311/\",\n",
    "                                 \"/az-ml-container/external_pytest/nebraska-center-pivots-2005/nbextent-clipped-to-western.geojson\")\n",
    "\n",
    "directory_list = wflow.setup_dirs()\n",
    "\n",
    "band_list = wflow.yaml_to_band_index()\n",
    "\n",
    "product_list = wflow.get_product_paths(band_list)\n",
    "\n",
    "stacked_arr = wflow.load_and_stack_bands(product_list)\n",
    "\n",
    "wflow.stack_and_save_bands()"
   ]
  },
  {
   "cell_type": "code",
   "execution_count": 4,
   "metadata": {},
   "outputs": [],
   "source": [
    "shp_frame = gpd.read_file(wflow.source_label_path)"
   ]
  },
  {
   "cell_type": "code",
   "execution_count": 5,
   "metadata": {},
   "outputs": [],
   "source": [
    "shp_frame = shp_frame.loc[shp_frame.area > wflow.small_area_filter]\n",
    "shp_frame[\"geometry\"] = shp_frame[\"geometry\"].buffer(wflow.neg_buffer)"
   ]
  },
  {
   "cell_type": "code",
   "execution_count": 12,
   "metadata": {},
   "outputs": [
    {
     "ename": "TypeError",
     "evalue": "argument of type 'Polygon' is not iterable",
     "output_type": "error",
     "traceback": [
      "\u001b[0;31m---------------------------------------------------------------------------\u001b[0m",
      "\u001b[0;31mTypeError\u001b[0m                                 Traceback (most recent call last)",
      "\u001b[0;32m<ipython-input-12-4cc6e6c0efb1>\u001b[0m in \u001b[0;36m<module>\u001b[0;34m\u001b[0m\n\u001b[0;32m----> 1\u001b[0;31m \u001b[0mis_valid_geom\u001b[0m\u001b[0;34m(\u001b[0m\u001b[0mshp_frame\u001b[0m\u001b[0;34m.\u001b[0m\u001b[0miloc\u001b[0m\u001b[0;34m[\u001b[0m\u001b[0;36m638\u001b[0m\u001b[0;34m]\u001b[0m\u001b[0;34m[\u001b[0m\u001b[0;34m'geometry'\u001b[0m\u001b[0;34m]\u001b[0m\u001b[0;34m)\u001b[0m\u001b[0;34m\u001b[0m\u001b[0;34m\u001b[0m\u001b[0m\n\u001b[0m",
      "\u001b[0;32m/data/anaconda/envs/cropmask/lib/python3.7/site-packages/rasterio/features.py\u001b[0m in \u001b[0;36mis_valid_geom\u001b[0;34m(geom)\u001b[0m\n\u001b[1;32m    454\u001b[0m                   'MultiLineString', 'Polygon', 'MultiPolygon'}\n\u001b[1;32m    455\u001b[0m \u001b[0;34m\u001b[0m\u001b[0m\n\u001b[0;32m--> 456\u001b[0;31m     \u001b[0;32mif\u001b[0m \u001b[0;34m'type'\u001b[0m \u001b[0;32mnot\u001b[0m \u001b[0;32min\u001b[0m \u001b[0mgeom\u001b[0m\u001b[0;34m:\u001b[0m\u001b[0;34m\u001b[0m\u001b[0;34m\u001b[0m\u001b[0m\n\u001b[0m\u001b[1;32m    457\u001b[0m         \u001b[0;32mreturn\u001b[0m \u001b[0;32mFalse\u001b[0m\u001b[0;34m\u001b[0m\u001b[0;34m\u001b[0m\u001b[0m\n\u001b[1;32m    458\u001b[0m \u001b[0;34m\u001b[0m\u001b[0m\n",
      "\u001b[0;31mTypeError\u001b[0m: argument of type 'Polygon' is not iterable"
     ]
    }
   ],
   "source": [
    "is_valid_geom(shp_frame.iloc[638]['geometry'])"
   ]
  },
  {
   "cell_type": "code",
   "execution_count": 13,
   "metadata": {},
   "outputs": [
    {
     "data": {
      "text/plain": [
       "True"
      ]
     },
     "execution_count": 13,
     "metadata": {},
     "output_type": "execute_result"
    }
   ],
   "source": [
    "shp_frame.iloc[638]['geometry'].is_empty"
   ]
  },
  {
   "cell_type": "code",
   "execution_count": 11,
   "metadata": {},
   "outputs": [
    {
     "data": {
      "text/plain": [
       "False"
      ]
     },
     "execution_count": 11,
     "metadata": {},
     "output_type": "execute_result"
    }
   ],
   "source": [
    "is_valid_geom(shp_frame.iloc[638]['geometry'].__geo_interface__)"
   ]
  },
  {
   "cell_type": "code",
   "execution_count": 22,
   "metadata": {},
   "outputs": [
    {
     "data": {
      "text/plain": [
       "False"
      ]
     },
     "execution_count": 22,
     "metadata": {},
     "output_type": "execute_result"
    }
   ],
   "source": [
    "shp_frame.geometry.apply(lambda g: is_valid_geom(g.__geo_interface__)).min()"
   ]
  },
  {
   "cell_type": "code",
   "execution_count": 6,
   "metadata": {},
   "outputs": [
    {
     "ename": "ValueError",
     "evalue": "Invalid geometry object at index 638",
     "output_type": "error",
     "traceback": [
      "\u001b[0;31m---------------------------------------------------------------------------\u001b[0m",
      "\u001b[0;31mValueError\u001b[0m                                Traceback (most recent call last)",
      "\u001b[0;32m<ipython-input-6-f9e1a1720d89>\u001b[0m in \u001b[0;36m<module>\u001b[0;34m\u001b[0m\n\u001b[1;32m     20\u001b[0m         \u001b[0mout_shape\u001b[0m\u001b[0;34m=\u001b[0m\u001b[0;34m(\u001b[0m\u001b[0mmeta\u001b[0m\u001b[0;34m[\u001b[0m\u001b[0;34m'height'\u001b[0m\u001b[0;34m]\u001b[0m\u001b[0;34m,\u001b[0m\u001b[0mmeta\u001b[0m\u001b[0;34m[\u001b[0m\u001b[0;34m'width'\u001b[0m\u001b[0;34m]\u001b[0m\u001b[0;34m)\u001b[0m\u001b[0;34m,\u001b[0m\u001b[0;34m\u001b[0m\u001b[0;34m\u001b[0m\u001b[0m\n\u001b[1;32m     21\u001b[0m         \u001b[0mtransform\u001b[0m\u001b[0;34m=\u001b[0m\u001b[0mout\u001b[0m\u001b[0;34m.\u001b[0m\u001b[0mtransform\u001b[0m\u001b[0;34m,\u001b[0m\u001b[0;34m\u001b[0m\u001b[0;34m\u001b[0m\u001b[0m\n\u001b[0;32m---> 22\u001b[0;31m         \u001b[0mdefault_value\u001b[0m\u001b[0;34m=\u001b[0m\u001b[0;36m1\u001b[0m\u001b[0;34m,\u001b[0m\u001b[0;34m\u001b[0m\u001b[0;34m\u001b[0m\u001b[0m\n\u001b[0m\u001b[1;32m     23\u001b[0m     )\n\u001b[1;32m     24\u001b[0m     \u001b[0mburned\u001b[0m\u001b[0;34m[\u001b[0m\u001b[0mburned\u001b[0m \u001b[0;34m<\u001b[0m \u001b[0;36m0\u001b[0m\u001b[0;34m]\u001b[0m \u001b[0;34m=\u001b[0m \u001b[0;36m0\u001b[0m\u001b[0;34m\u001b[0m\u001b[0;34m\u001b[0m\u001b[0m\n",
      "\u001b[0;32m/data/anaconda/envs/cropmask/lib/python3.7/site-packages/rasterio/env.py\u001b[0m in \u001b[0;36mwrapper\u001b[0;34m(*args, **kwds)\u001b[0m\n\u001b[1;32m    370\u001b[0m     \u001b[0;32mdef\u001b[0m \u001b[0mwrapper\u001b[0m\u001b[0;34m(\u001b[0m\u001b[0;34m*\u001b[0m\u001b[0margs\u001b[0m\u001b[0;34m,\u001b[0m \u001b[0;34m**\u001b[0m\u001b[0mkwds\u001b[0m\u001b[0;34m)\u001b[0m\u001b[0;34m:\u001b[0m\u001b[0;34m\u001b[0m\u001b[0;34m\u001b[0m\u001b[0m\n\u001b[1;32m    371\u001b[0m         \u001b[0;32mif\u001b[0m \u001b[0mlocal\u001b[0m\u001b[0;34m.\u001b[0m\u001b[0m_env\u001b[0m\u001b[0;34m:\u001b[0m\u001b[0;34m\u001b[0m\u001b[0;34m\u001b[0m\u001b[0m\n\u001b[0;32m--> 372\u001b[0;31m             \u001b[0;32mreturn\u001b[0m \u001b[0mf\u001b[0m\u001b[0;34m(\u001b[0m\u001b[0;34m*\u001b[0m\u001b[0margs\u001b[0m\u001b[0;34m,\u001b[0m \u001b[0;34m**\u001b[0m\u001b[0mkwds\u001b[0m\u001b[0;34m)\u001b[0m\u001b[0;34m\u001b[0m\u001b[0;34m\u001b[0m\u001b[0m\n\u001b[0m\u001b[1;32m    373\u001b[0m         \u001b[0;32melse\u001b[0m\u001b[0;34m:\u001b[0m\u001b[0;34m\u001b[0m\u001b[0;34m\u001b[0m\u001b[0m\n\u001b[1;32m    374\u001b[0m             \u001b[0;32mwith\u001b[0m \u001b[0mEnv\u001b[0m\u001b[0;34m.\u001b[0m\u001b[0mfrom_defaults\u001b[0m\u001b[0;34m(\u001b[0m\u001b[0;34m)\u001b[0m\u001b[0;34m:\u001b[0m\u001b[0;34m\u001b[0m\u001b[0;34m\u001b[0m\u001b[0m\n",
      "\u001b[0;32m/data/anaconda/envs/cropmask/lib/python3.7/site-packages/rasterio/features.py\u001b[0m in \u001b[0;36mrasterize\u001b[0;34m(shapes, out_shape, fill, out, transform, all_touched, merge_alg, default_value, dtype)\u001b[0m\n\u001b[1;32m    264\u001b[0m         \u001b[0;32mif\u001b[0m \u001b[0;32mnot\u001b[0m \u001b[0mis_valid_geom\u001b[0m\u001b[0;34m(\u001b[0m\u001b[0mgeom\u001b[0m\u001b[0;34m)\u001b[0m\u001b[0;34m:\u001b[0m\u001b[0;34m\u001b[0m\u001b[0;34m\u001b[0m\u001b[0m\n\u001b[1;32m    265\u001b[0m             raise ValueError(\n\u001b[0;32m--> 266\u001b[0;31m                 \u001b[0;34m'Invalid geometry object at index {0}'\u001b[0m\u001b[0;34m.\u001b[0m\u001b[0mformat\u001b[0m\u001b[0;34m(\u001b[0m\u001b[0mindex\u001b[0m\u001b[0;34m)\u001b[0m\u001b[0;34m\u001b[0m\u001b[0;34m\u001b[0m\u001b[0m\n\u001b[0m\u001b[1;32m    267\u001b[0m             )\n\u001b[1;32m    268\u001b[0m \u001b[0;34m\u001b[0m\u001b[0m\n",
      "\u001b[0;31mValueError\u001b[0m: Invalid geometry object at index 638"
     ]
    }
   ],
   "source": [
    "# keeps the class of interest if it is there and the polygon of raster extent\n",
    "meta = wflow.meta.copy()\n",
    "meta.update({'count':1})\n",
    "tifname = os.path.splitext(os.path.basename(wflow.source_label_path))[0] + \".tif\"\n",
    "wflow.rasterized_label_path = os.path.join(wflow.NEG_BUFFERED, tifname)\n",
    "with rasterio.open(wflow.rasterized_label_path, \"w+\", **wflow.meta) as out:\n",
    "    out_arr = out.read(1)\n",
    "    shp_frame = shp_frame.loc[shp_frame.area > wflow.small_area_filter]\n",
    "    shp_frame[\"geometry\"] = shp_frame[\"geometry\"].buffer(wflow.neg_buffer)\n",
    "    shp_frame = shp_frame.loc[shp_frame.geometry.is_empty==False]\n",
    "    # https://gis.stackexchange.com/questions/151339/rasterize-a-shapefile-with-geopandas-or-fiona-python#151861\n",
    "    shapes = (\n",
    "        (geom, value)\n",
    "        for geom, value in zip(shp_frame.geometry, shp_frame.ID)\n",
    "    )\n",
    "\n",
    "    burned = features.rasterize(\n",
    "        shapes=shapes,\n",
    "        fill=0,\n",
    "        out_shape=(meta['height'],meta['width']),\n",
    "        transform=out.transform,\n",
    "        default_value=1,\n",
    "    )\n",
    "    burned[burned < 0] = 0\n",
    "    burned[burned > 0] = 1\n",
    "    burned = burned.astype(np.int16, copy=False)\n",
    "    out.write(burned, 1)"
   ]
  },
  {
   "cell_type": "code",
   "execution_count": 7,
   "metadata": {},
   "outputs": [],
   "source": [
    "from rasterio.features import is_valid_geom"
   ]
  },
  {
   "cell_type": "code",
   "execution_count": null,
   "metadata": {},
   "outputs": [],
   "source": [
    "shp_frame['geometry'].iloc[3973].is_empty"
   ]
  },
  {
   "cell_type": "code",
   "execution_count": null,
   "metadata": {},
   "outputs": [],
   "source": [
    "    try: \n",
    "        img_chip_list = os.listdir(wflow.GRIDDED_IMGS)\n",
    "        label_chip_list = os.listdir(wflow.GRIDDED_LABELS)\n",
    "        assert img_chip_list # make sure that this is not empty\n",
    "        assert label_chip_list\n",
    "        remove_dirs(directory_list)\n",
    "    except AssertionError:\n",
    "        remove_dirs(directory_list)\n",
    "        print(\"The product list is empty, check this path: \"+ wflow.GRIDDED_IMGS)"
   ]
  },
  {
   "cell_type": "code",
   "execution_count": null,
   "metadata": {},
   "outputs": [],
   "source": []
  },
  {
   "cell_type": "code",
   "execution_count": null,
   "metadata": {},
   "outputs": [],
   "source": [
    "wflow.negative_buffer_and_small_filter(-31, 100)"
   ]
  },
  {
   "cell_type": "code",
   "execution_count": null,
   "metadata": {},
   "outputs": [],
   "source": []
  },
  {
   "cell_type": "code",
   "execution_count": null,
   "metadata": {},
   "outputs": [],
   "source": []
  },
  {
   "cell_type": "code",
   "execution_count": null,
   "metadata": {},
   "outputs": [],
   "source": []
  },
  {
   "cell_type": "code",
   "execution_count": null,
   "metadata": {},
   "outputs": [],
   "source": []
  },
  {
   "cell_type": "code",
   "execution_count": 1,
   "metadata": {},
   "outputs": [
    {
     "name": "stdout",
     "output_type": "stream",
     "text": [
      "Done applying negbuff of -31 and filtering small labels of area less than 100\n"
     ]
    },
    {
     "data": {
      "text/plain": [
       "True"
      ]
     },
     "execution_count": 1,
     "metadata": {},
     "output_type": "execute_result"
    }
   ],
   "source": [
    "import random\n",
    "import os\n",
    "import shutil\n",
    "import copy\n",
    "from skimage import measure\n",
    "from skimage import morphology as skim\n",
    "import skimage.io as skio\n",
    "import warnings\n",
    "import pandas as pd\n",
    "import numpy as np\n",
    "import pathlib\n",
    "import geopandas as gpd\n",
    "from rasterio import features, coords\n",
    "from rasterio.plot import reshape_as_raster\n",
    "import rasterio\n",
    "from shapely.geometry import shape\n",
    "from osgeo import gdal\n",
    "\n",
    "from cropmask.misc import parse_yaml, make_dirs\n",
    "\n",
    "from cropmask.preprocess import PreprocessWorkflow\n",
    "wflow = PreprocessWorkflow(\"/az-ml-container/configs/preprocess_config_pytest.yaml\", \n",
    "                                 \"/az-ml-container/western_nebraska_landsat_scenes_pytest/LT050320312005011601T1-SC20190418222311/\",\n",
    "                                 \"/az-ml-container/external_pytest/nebraska-center-pivots-2005/nbextent-clipped-to-western.geojson\")\n",
    "\n",
    "directory_list = wflow.setup_dirs()\n",
    "\n",
    "band_list = wflow.yaml_to_band_index()\n",
    "\n",
    "product_list = wflow.get_product_paths(band_list)\n",
    "\n",
    "stacked_arr = wflow.load_and_stack_bands(product_list)\n",
    "\n",
    "wflow.stack_and_save_bands()\n",
    "\n",
    "wflow.negative_buffer_and_small_filter(-31, 100)"
   ]
  },
  {
   "cell_type": "code",
   "execution_count": null,
   "metadata": {},
   "outputs": [],
   "source": [
    "def rm_mostly_empty(self, scene_path, label_path):\n",
    "    \"\"\"\n",
    "    Removes a grid that is emptier than the usable data threshold and corrects bad no data value to 0.\n",
    "    Ignore the User Warning, unsure why it pops up but doesn't seem to impact the array shape. Used because\n",
    "    very empty grid chips seem to throw off the model by increasing detections at the edges between good data \n",
    "    and nodata.\n",
    "    \"\"\"\n",
    "\n",
    "    arr = skio.imread(scene_path)\n",
    "    arr[arr < 0] = 0\n",
    "    skio.imsave(scene_path, arr)\n",
    "    pixel_count = arr.shape[0] * arr.shape[1]\n",
    "    nodata_pixel_count = (arr == 0).sum()\n",
    "\n",
    "    if nodata_pixel_count / pixel_count > self.usable_threshold:\n",
    "\n",
    "        os.remove(scene_path)\n",
    "        os.remove(label_path)\n",
    "    print(\"removed scene and label, {}% bad data\".format(self.usable_threshold))\n",
    "\n",
    "def new_grid_images(self):\n",
    "    \"\"\"\n",
    "    Grids up imagery to a variable size. Filters out imagery with too little usable data.\n",
    "    appends a random unique id to each tif and label pair, appending string 'label' to the \n",
    "    mask.\n",
    "    \"\"\"\n",
    "\n",
    "    ds = gdal.Open(self.stacked_path) # TO DO can get this info earlier and with less file io\n",
    "    band = ds.GetRasterBand(1)\n",
    "    xsize = band.XSize\n",
    "    ysize = band.YSize\n",
    "    ### TO DO MAKE GRID ID DIRECTORY CREATION HAPPEN IN THE MAKE DIRS FUNCTION, MOVE ALL DIR SETUP TO THAT FUNCTION INSTEAD OF HAVING\n",
    "    ### IT BE SCATTERED AROUND MULTIPLE FUNCS\n",
    "    for i in range(0, xsize, self.grid_size):\n",
    "        for j in range(0, ysize, self.grid_size):\n",
    "            print(xsize)\n",
    "            print(ysize)\n",
    "            print(self.grid_size)\n",
    "            chip_id = str(i)+'_'+str(j)+'_'+self.scene_id\n",
    "            self.chip_ids.append(chip_id)\n",
    "            out_path_img = os.path.join(self.GRIDDED_IMGS, chip_id) + \".tif\"\n",
    "            out_path_label = os.path.join(self.GRIDDED_LABELS, chip_id) + \"_label.tif\"\n",
    "            print(\"image chip file name: {}\".format(out_path_img))\n",
    "            com_string = (\n",
    "                \"gdal_translate -of GTIFF -srcwin \"\n",
    "                + str(i)\n",
    "                + \", \"\n",
    "                + str(j)\n",
    "                + \", \"\n",
    "                + str(self.grid_size)\n",
    "                + \", \"\n",
    "                + str(self.grid_size)\n",
    "                + \" \"\n",
    "                + str(self.stacked_path)\n",
    "                + \" \"\n",
    "                + str(out_path_img)\n",
    "            )\n",
    "            os.system(com_string)\n",
    "            com_string = (\n",
    "                \"gdal_translate -of GTIFF -srcwin \"\n",
    "                + str(i)\n",
    "                + \", \"\n",
    "                + str(j)\n",
    "                + \", \"\n",
    "                + str(self.grid_size)\n",
    "                + \", \"\n",
    "                + str(self.grid_size)\n",
    "                + \" \"\n",
    "                + str(self.rasterized_label_path)\n",
    "                + \" \"\n",
    "                + str(out_path_label)\n",
    "            )\n",
    "            os.system(com_string)\n",
    "            self.rm_mostly_empty(out_path_img, out_path_label)\n",
    "    return True # for testing to confirm it worked"
   ]
  },
  {
   "cell_type": "code",
   "execution_count": null,
   "metadata": {},
   "outputs": [],
   "source": [
    "\n",
    "def compute(unsigned char[:, :, :] input):\n",
    "    \"\"\"reverses bands inefficiently\n",
    "\n",
    "    Given input and output uint8 arrays, fakes an CPU-intensive\n",
    "    computation.\n",
    "    \"\"\"\n",
    "    cdef int I, J, K\n",
    "    cdef int i, j, k, l\n",
    "    cdef double val\n",
    "    I = input.shape[0]\n",
    "    J = input.shape[1]\n",
    "    K = input.shape[2]\n",
    "    output = np.empty((I, J, K), dtype='uint8')\n",
    "    cdef unsigned char[:, :, :] output_view = output\n",
    "    with nogil:\n",
    "        for i in range(I):\n",
    "            for j in range(J):\n",
    "                for k in range(K):\n",
    "                    val = <double>input[i, j, k]\n",
    "                    for l in range(2000):\n",
    "                        val += 1.0\n",
    "                    val -= 2000.0\n",
    "                    output_view[~i, j, k] = <unsigned char>val\n",
    "    return output"
   ]
  },
  {
   "cell_type": "code",
   "execution_count": null,
   "metadata": {},
   "outputs": [],
   "source": [
    "import concurrent.futures\n",
    "\n",
    "import rasterio\n",
    "from rasterio._example import compute\n",
    "\n",
    "\n",
    "def main(infile, outfile, num_workers=4):\n",
    "    \"\"\"Process infile block-by-block and write to a new file\n",
    "\n",
    "    The output is the same as the input, but with band order\n",
    "    reversed.\n",
    "    \"\"\"\n",
    "\n",
    "    with rasterio.Env():\n",
    "\n",
    "        with rasterio.open(infile) as src:\n",
    "\n",
    "            # Create a destination dataset based on source params. The\n",
    "            # destination will be tiled, and we'll process the tiles\n",
    "            # concurrently.\n",
    "            profile = src.profile\n",
    "            profile.update(blockxsize=128, blockysize=128, tiled=True)\n",
    "\n",
    "            with rasterio.open(outfile, \"w\", **profile) as dst:\n",
    "\n",
    "                # Materialize a list of destination block windows\n",
    "                # that we will use in several statements below.\n",
    "                windows = [window for ij, window in dst.block_windows()]\n",
    "\n",
    "                # This generator comprehension gives us raster data\n",
    "                # arrays for each window. Later we will zip a mapping\n",
    "                # of it with the windows list to get (window, result)\n",
    "                # pairs.\n",
    "                data_gen = (src.read(window=window) for window in windows)\n",
    "\n",
    "                with concurrent.futures.ThreadPoolExecutor(\n",
    "                    max_workers=num_workers\n",
    "                ) as executor:\n",
    "\n",
    "                    # We map the compute() function over the raster\n",
    "                    # data generator, zip the resulting iterator with\n",
    "                    # the windows list, and as pairs come back we\n",
    "                    # write data to the destination dataset.\n",
    "                    for window, result in zip(\n",
    "                        windows, executor.map(compute, data_gen)\n",
    "                    ):\n",
    "                        dst.write(result, window=window)"
   ]
  },
  {
   "cell_type": "code",
   "execution_count": null,
   "metadata": {},
   "outputs": [],
   "source": []
  },
  {
   "cell_type": "code",
   "execution_count": null,
   "metadata": {},
   "outputs": [],
   "source": []
  },
  {
   "cell_type": "code",
   "execution_count": null,
   "metadata": {},
   "outputs": [],
   "source": []
  },
  {
   "cell_type": "code",
   "execution_count": null,
   "metadata": {},
   "outputs": [],
   "source": []
  },
  {
   "cell_type": "code",
   "execution_count": null,
   "metadata": {},
   "outputs": [],
   "source": []
  },
  {
   "cell_type": "code",
   "execution_count": null,
   "metadata": {},
   "outputs": [],
   "source": []
  },
  {
   "cell_type": "code",
   "execution_count": null,
   "metadata": {},
   "outputs": [],
   "source": []
  },
  {
   "cell_type": "code",
   "execution_count": null,
   "metadata": {},
   "outputs": [],
   "source": []
  },
  {
   "cell_type": "code",
   "execution_count": null,
   "metadata": {},
   "outputs": [],
   "source": []
  },
  {
   "cell_type": "code",
   "execution_count": null,
   "metadata": {},
   "outputs": [],
   "source": []
  },
  {
   "cell_type": "code",
   "execution_count": null,
   "metadata": {},
   "outputs": [],
   "source": []
  },
  {
   "cell_type": "code",
   "execution_count": null,
   "metadata": {},
   "outputs": [],
   "source": []
  },
  {
   "cell_type": "code",
   "execution_count": null,
   "metadata": {},
   "outputs": [],
   "source": []
  },
  {
   "cell_type": "code",
   "execution_count": null,
   "metadata": {},
   "outputs": [],
   "source": []
  },
  {
   "cell_type": "code",
   "execution_count": null,
   "metadata": {},
   "outputs": [],
   "source": []
  },
  {
   "cell_type": "code",
   "execution_count": null,
   "metadata": {},
   "outputs": [],
   "source": []
  }
 ],
 "metadata": {
  "kernelspec": {
   "display_name": "cropmask",
   "language": "python",
   "name": "cropmask"
  },
  "language_info": {
   "codemirror_mode": {
    "name": "ipython",
    "version": 3
   },
   "file_extension": ".py",
   "mimetype": "text/x-python",
   "name": "python",
   "nbconvert_exporter": "python",
   "pygments_lexer": "ipython3",
   "version": "3.7.1"
  }
 },
 "nbformat": 4,
 "nbformat_minor": 2
}
