{
 "cells": [
  {
   "cell_type": "code",
   "execution_count": null,
   "metadata": {},
   "outputs": [],
   "source": []
  },
  {
   "cell_type": "code",
   "execution_count": null,
   "metadata": {},
   "outputs": [],
   "source": [
    "import random\n",
    "import os\n",
    "import shutil\n",
    "import copy\n",
    "from skimage import measure\n",
    "from skimage import morphology as skim\n",
    "import skimage.io as skio\n",
    "import warnings\n",
    "import pandas as pd\n",
    "import numpy as np\n",
    "import pathlib\n",
    "import geopandas as gpd\n",
    "from rasterio import features, coords\n",
    "from rasterio.plot import reshape_as_raster\n",
    "import rasterio\n",
    "from shapely.geometry import shape\n",
    "from osgeo import gdal\n",
    "from itertools import product\n",
    "from rasterio import windows\n",
    "from multiprocessing.pool import ThreadPool\n",
    "from cropmask.label_prep import rio_bbox_to_polygon\n",
    "from cropmask.misc import parse_yaml, make_dirs\n",
    "from cropmask import grid"
   ]
  },
  {
   "cell_type": "code",
   "execution_count": null,
   "metadata": {},
   "outputs": [],
   "source": [
    "import cropmask.preprocess as pp\n",
    "from cropmask.misc import make_dirs, remove_dirs\n",
    "wflow = pp.PreprocessWorkflow(\"/home/ryan/work/CropMask_RCNN/cropmask/preprocess_config.yaml\", \n",
    "                                 \"/mnt/point/western_nebraska_landsat_scenes/LT050320312005082801T1-SC20190418222350/\",\n",
    "                                 \"/mnt/point/external/nebraska_pivots_projected.geojson\")"
   ]
  },
  {
   "cell_type": "markdown",
   "metadata": {},
   "source": [
    "Need to see why the remove function causes label not found error "
   ]
  },
  {
   "cell_type": "code",
   "execution_count": null,
   "metadata": {},
   "outputs": [],
   "source": [
    "directory_list = wflow.setup_dirs()\n",
    "\n",
    "band_list = wflow.yaml_to_band_index()\n",
    "\n",
    "product_list = wflow.get_product_paths(band_list)\n",
    "\n",
    "stacked_arr = wflow.load_and_stack_bands(product_list)\n",
    "\n",
    "wflow.stack_and_save_bands()\n",
    "\n",
    "wflow.negative_buffer_and_small_filter(-31, 100)\n",
    "\n",
    "img_paths, label_paths = wflow.grid_images()\n",
    "\n",
    "wflow.remove_from_gridded(img_paths, label_paths)"
   ]
  },
  {
   "cell_type": "code",
   "execution_count": null,
   "metadata": {},
   "outputs": [],
   "source": [
    "wflow.move_chips_to_folder()\n",
    "\n",
    "wflow.connected_components()"
   ]
  },
  {
   "cell_type": "code",
   "execution_count": null,
   "metadata": {},
   "outputs": [],
   "source": [
    "from cropmask.label_prep import connected_components\n",
    "import skimage.io as skio\n",
    "arr = connected_components(\"/mnt/point/landsat-1024-cp/landsat_grid_labels/tile_2560-3072_label.tif\")"
   ]
  },
  {
   "cell_type": "code",
   "execution_count": null,
   "metadata": {},
   "outputs": [],
   "source": [
    "%matplotlib inline\n",
    "skio.imshow(arr)"
   ]
  },
  {
   "cell_type": "code",
   "execution_count": null,
   "metadata": {},
   "outputs": [],
   "source": [
    "import numpy as np\n",
    "np.unique(arr)"
   ]
  },
  {
   "cell_type": "code",
   "execution_count": null,
   "metadata": {},
   "outputs": [],
   "source": []
  },
  {
   "cell_type": "code",
   "execution_count": null,
   "metadata": {},
   "outputs": [],
   "source": [
    "%matplotlib inline\n",
    "skio.imshow(arr[:,:,0])"
   ]
  },
  {
   "cell_type": "code",
   "execution_count": null,
   "metadata": {},
   "outputs": [],
   "source": []
  },
  {
   "cell_type": "code",
   "execution_count": null,
   "metadata": {},
   "outputs": [],
   "source": []
  },
  {
   "cell_type": "code",
   "execution_count": null,
   "metadata": {},
   "outputs": [],
   "source": [
    "import os\n",
    "from itertools import product\n",
    "import rasterio as rio\n",
    "from rasterio import windows\n",
    "import threading\n",
    "\n",
    "from multiprocessing.dummy import Pool as ThreadPool"
   ]
  },
  {
   "cell_type": "code",
   "execution_count": null,
   "metadata": {},
   "outputs": [],
   "source": [
    "def get_tiles_for_threaded_map(ds, width=256, height=256):\n",
    "    \"\"\"\n",
    "        Returns a list of tuple where each tuple is the window and transform information for the image chip. \n",
    "    \"\"\"\n",
    "    nols, nrows = ds.meta['width'], ds.meta['height']\n",
    "    offsets = product(range(0, nols, width), range(0, nrows, height))\n",
    "    big_window = windows.Window(col_off=0, row_off=0, width=nols, height=nrows)\n",
    "    chip_list = []\n",
    "    def get_win(ds, col_off, row_off, width, height, big_window):\n",
    "        \"\"\"\n",
    "        Returns the bounds of each image chip/tile as a rasterio window object as well as the transform\n",
    "        as a tuple like (rasterio.windows.Window, transform)\n",
    "        \"\"\"\n",
    "        window =windows.Window(col_off=col_off, row_off=row_off, width=width, height=height).intersection(big_window)\n",
    "        transform = windows.transform(window, ds.transform)\n",
    "        return (window, transform)\n",
    "    chip_list = list(map(lambda x: get_win(ds, x[0], x[1], width, height, big_window), offsets))\n",
    "    return chip_list\n",
    "\n",
    "def write_by_window(ds, out_dir, output_name_template, meta, window, transform):\n",
    "    \"\"\"Writes an image chip given the source meta, the chip window, and the chip transform\"\"\"\n",
    "    meta['transform'] = transform\n",
    "    meta['width'], meta['height'] = window.width, window.height\n",
    "    outpath = os.path.join(out_dir,output_name_template.format(int(window.col_off), int(window.row_off)))\n",
    "    with rasterio.open(outpath, 'w', **meta) as outds:\n",
    "        outds.write(ds.read(window=window))\n",
    "    return outpath\n",
    "\n",
    "def map_threads(func, sequence, threads=4):\n",
    "    pool = ThreadPool(threads)\n",
    "    results = pool.map(func, sequence)\n",
    "    pool.close()\n",
    "    pool.join()\n",
    "    return results\n",
    "\n",
    "def grid_images_rasterio_controlled_threads(in_path, out_dir, output_name_template='tile_{}-{}.tif'):\n",
    "    \"\"\"\n",
    "    Reads in a Landsat scene and writes out square image chips using a thread pool.\n",
    "    \"\"\"    \n",
    "    with rasterio.open(in_path) as src:\n",
    "        meta = src.meta.copy()\n",
    "        chip_list = get_tiles_for_threaded_map(src)\n",
    "        out_paths = list(map_threads(lambda x: write_by_window(src, out_dir, output_name_template, meta, x[0], x[1]), chip_list))\n",
    "    return out_paths\n",
    "\n",
    "def grid_images_rasterio_regular_map(in_path, out_dir, output_name_template='tile_{}-{}.tif'):\n",
    "    \"\"\"\n",
    "    Grids up imagery to a variable size. Filters out imagery with too little usable data.\n",
    "    appends a random unique id to each tif and label pair, appending string 'label' to the \n",
    "    mask. Inspired by https://gis.stackexchange.com/questions/285499/how-to-split-multiband-image-into-image-tiles-using-rasterio\n",
    "    \"\"\"    \n",
    "    with rasterio.open(in_path) as src:\n",
    "        meta = src.meta.copy()\n",
    "        chip_list = get_tiles_for_threaded_map(src)\n",
    "        out_paths = list(map(lambda x: write_by_window(src, out_dir, output_name_template, meta, x[0], x[1]), chip_list))\n",
    "    return out_paths"
   ]
  },
  {
   "cell_type": "code",
   "execution_count": null,
   "metadata": {},
   "outputs": [],
   "source": [
    "%%time\n",
    "with rasterio.open(in_path) as inds:\n",
    "    chip_list = get_tiles_for_threaded_map(inds)"
   ]
  },
  {
   "cell_type": "code",
   "execution_count": null,
   "metadata": {},
   "outputs": [],
   "source": [
    "%%time\n",
    "out_paths = grid_images_rasterio_controlled_threads(wflow.stacked_path, wflow.GRIDDED_IMGS)"
   ]
  },
  {
   "cell_type": "code",
   "execution_count": null,
   "metadata": {},
   "outputs": [],
   "source": [
    "%%time\n",
    "out_paths = grid_images_rasterio_regular_map(wflow.stacked_path, wflow.GRIDDED_IMGS)"
   ]
  },
  {
   "cell_type": "code",
   "execution_count": null,
   "metadata": {},
   "outputs": [],
   "source": []
  },
  {
   "cell_type": "code",
   "execution_count": null,
   "metadata": {},
   "outputs": [],
   "source": []
  }
 ],
 "metadata": {
  "kernelspec": {
   "display_name": "cropmask",
   "language": "python",
   "name": "cropmask"
  },
  "language_info": {
   "codemirror_mode": {
    "name": "ipython",
    "version": 3
   },
   "file_extension": ".py",
   "mimetype": "text/x-python",
   "name": "python",
   "nbconvert_exporter": "python",
   "pygments_lexer": "ipython3",
   "version": "3.7.1"
  }
 },
 "nbformat": 4,
 "nbformat_minor": 2
}
