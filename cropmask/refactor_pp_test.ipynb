{
 "cells": [
  {
   "cell_type": "code",
   "execution_count": null,
   "metadata": {},
   "outputs": [],
   "source": [
    "import random\n",
    "import os\n",
    "import shutil\n",
    "import copy\n",
    "from skimage import measure\n",
    "from skimage import morphology as skim\n",
    "import skimage.io as skio\n",
    "import warnings\n",
    "import pandas as pd\n",
    "import numpy as np\n",
    "import pathlib\n",
    "import geopandas as gpd\n",
    "from rasterio import features, coords\n",
    "from rasterio.plot import reshape_as_raster\n",
    "import rasterio\n",
    "from shapely.geometry import shape\n",
    "from osgeo import gdal\n",
    "\n",
    "from cropmask.misc import parse_yaml, make_dirs\n",
    "\n",
    "from cropmask.preprocess import PreprocessWorkflow\n",
    "wflow = PreprocessWorkflow(\"/home/ryan/work/CropMask_RCNN/cropmask/preprocess_config.yaml\", \n",
    "                                 \"/mnt/point/western_nebraska_landsat_scenes/LT050320312005082801T1-SC20190418222350/\",\n",
    "                                 \"/mnt/point/external/2005_NE_Center_Pivots/nbextent-clipped-to-western.geojson\")\n",
    "directory_list = wflow.setup_dirs()\n",
    "\n",
    "band_list = wflow.yaml_to_band_index()\n",
    "\n",
    "product_list = wflow.get_product_paths(band_list)\n",
    "\n",
    "stacked_arr = wflow.load_and_stack_bands(product_list)\n",
    "\n",
    "wflow.stack_and_save_bands()"
   ]
  },
  {
   "cell_type": "code",
   "execution_count": null,
   "metadata": {},
   "outputs": [],
   "source": [
    "wflow.negative_buffer_and_small_filter(-31, 100)"
   ]
  },
  {
   "cell_type": "code",
   "execution_count": null,
   "metadata": {},
   "outputs": [],
   "source": [
    "del src"
   ]
  },
  {
   "cell_type": "code",
   "execution_count": null,
   "metadata": {},
   "outputs": [],
   "source": [
    "src = rasterio.open(wflow.stacked_path)"
   ]
  },
  {
   "cell_type": "code",
   "execution_count": null,
   "metadata": {},
   "outputs": [],
   "source": [
    "band_indices = [int(b) for b in wflow.band_list]"
   ]
  },
  {
   "cell_type": "code",
   "execution_count": null,
   "metadata": {},
   "outputs": [],
   "source": [
    "rasterio.windows.Window"
   ]
  },
  {
   "cell_type": "code",
   "execution_count": null,
   "metadata": {},
   "outputs": [],
   "source": [
    "import os\n",
    "from itertools import product\n",
    "import rasterio as rio\n",
    "from rasterio import windows\n",
    "\n",
    "in_path = wflow.stacked_path\n",
    "\n",
    "out_path = wflow.GRIDDED_IMGS\n",
    "output_filename = 'tile_{}-{}.tif'"
   ]
  },
  {
   "cell_type": "code",
   "execution_count": 117,
   "metadata": {},
   "outputs": [
    {
     "name": "stdout",
     "output_type": "stream",
     "text": [
      "CPU times: user 101 ms, sys: 5.07 ms, total: 106 ms\n",
      "Wall time: 101 ms\n"
     ]
    }
   ],
   "source": [
    "%%time\n",
    "with rasterio.open(in_path) as inds:\n",
    "    chip_list = get_tiles_for_threaded_map(inds)"
   ]
  },
  {
   "cell_type": "code",
   "execution_count": 113,
   "metadata": {},
   "outputs": [],
   "source": [
    "import threading\n",
    "\n",
    "def concurrent_map(func, data):\n",
    "    \"\"\"\n",
    "    Similar to the bultin function map(). But spawn a thread for each argument\n",
    "    and apply `func` concurrently.\n",
    "\n",
    "    Note: unlike map(), we cannot take an iterable argument. `data` should be an\n",
    "    indexable sequence.\n",
    "    \"\"\"\n",
    "\n",
    "    N = len(data)\n",
    "    result = [None] * N\n",
    "\n",
    "    # wrapper to dispose the result in the right slot\n",
    "    def task_wrapper(i):\n",
    "        result[i] = func(data[i])\n",
    "\n",
    "    threads = [threading.Thread(target=task_wrapper, args=(i,)) for i in range(N)]\n",
    "    for t in threads:\n",
    "        t.start()\n",
    "    for t in threads:\n",
    "        t.join()\n",
    "\n",
    "    return result"
   ]
  },
  {
   "cell_type": "code",
   "execution_count": null,
   "metadata": {},
   "outputs": [],
   "source": [
    "def concurrent_map(func, data):\n",
    "    \"\"\"\n",
    "    Similar to the bultin function map(). But spawn a thread for each argument\n",
    "    and apply `func` concurrently.\n",
    "\n",
    "    Note: unlike map(), we cannot take an iterable argument. `data` should be an\n",
    "    indexable sequence.\n",
    "    \"\"\"\n",
    "\n",
    "    N = len(data)\n",
    "    result = [None] * N\n",
    "\n",
    "    # wrapper to dispose the result in the right slot\n",
    "    def task_wrapper(i):\n",
    "        result[i] = func(data[i])\n",
    "\n",
    "    threads = [threading.Thread(target=task_wrapper, args=(i,)) for i in range(N)]\n",
    "    print(len(threads))\n",
    "    for t in threads:\n",
    "        t.start()\n",
    "    for t in threads:\n",
    "        t.join()\n",
    " \n",
    "    return result\n",
    "\n",
    "from multiprocessing.dummy import Pool as ThreadPool\n",
    "\n",
    "def map_threads(func, sequence, threads=8):\n",
    "    pool = ThreadPool(threads)\n",
    "    results = pool.map_async(func, sequence)\n",
    "    pool.close()\n",
    "    pool.join()\n",
    "    return results\n",
    "\n",
    "def get_tiles_for_threaded_map(ds, width=256, height=256):\n",
    "    \"\"\"\n",
    "        Returns a list of tuple where each tuple is the window and transform information for the image chip. \n",
    "    \"\"\"\n",
    "    nols, nrows = ds.meta['width'], ds.meta['height']\n",
    "    offsets = product(range(0, nols, width), range(0, nrows, height))\n",
    "    big_window = windows.Window(col_off=0, row_off=0, width=nols, height=nrows)\n",
    "    chip_list = []\n",
    "    def get_win(ds, col_off, row_off, width, height, big_window):\n",
    "        \"\"\"\n",
    "        Returns the bounds of each image chip/tile as a rasterio window object as well as the transform\n",
    "        as a tuple like (rasterio.windows.Window, transform)\n",
    "        \"\"\"\n",
    "        window =windows.Window(col_off=col_off, row_off=row_off, width=width, height=height).intersection(big_window)\n",
    "        transform = windows.transform(window, ds.transform)\n",
    "        return (window, transform)\n",
    "    chip_list = list(map(lambda x: get_win(ds, x[0], x[1], width, height, big_window), offsets))\n",
    "    return chip_list\n",
    "\n",
    "def write_by_window(ds, out_dir, output_name_template, meta, window, transform):\n",
    "    \"\"\"Writes an image chip given the source meta, the chip window, and the chip transform\"\"\"\n",
    "    meta['transform'] = transform\n",
    "    meta['width'], meta['height'] = window.width, window.height\n",
    "    outpath = os.path.join(out_dir,output_name_template.format(int(window.col_off), int(window.row_off)))\n",
    "    with rasterio.open(outpath, 'w', **meta) as outds:\n",
    "        outds.write(ds.read(window=window))\n",
    "    return outpath\n",
    "\n",
    "def grid_images_rasterio_controlled_threads(in_path, out_dir, output_name_template='tile_{}-{}.tif'):\n",
    "    \"\"\"\n",
    "    Grids up imagery to a variable size. Filters out imagery with too little usable data.\n",
    "    appends a random unique id to each tif and label pair, appending string 'label' to the \n",
    "    mask. Inspired by https://gis.stackexchange.com/questions/285499/how-to-split-multiband-image-into-image-tiles-using-rasterio\n",
    "    \"\"\"    \n",
    "    with rasterio.open(in_path) as src:\n",
    "        meta = src.meta.copy()\n",
    "        chip_list = get_tiles_for_threaded_map(src)\n",
    "        out_paths = list(map_threads(lambda x: write_by_window(src, out_dir, output_name_template, meta, x[0], x[1]), chip_list))\n",
    "    return out_paths\n",
    "\n",
    "\n",
    "def grid_images_rasterio_concurrent_map(in_path, out_dir, output_name_template='tile_{}-{}.tif'):\n",
    "    \"\"\"\n",
    "    Grids up imagery to a variable size. Filters out imagery with too little usable data.\n",
    "    appends a random unique id to each tif and label pair, appending string 'label' to the \n",
    "    mask. Inspired by https://gis.stackexchange.com/questions/285499/how-to-split-multiband-image-into-image-tiles-using-rasterio\n",
    "    \"\"\"    \n",
    "    with rasterio.open(in_path) as src:\n",
    "        meta = src.meta.copy()\n",
    "        chip_list = get_tiles_for_threaded_map(src)\n",
    "        out_paths = list(concurrent_map(lambda x: write_by_window(src, out_dir, output_name_template, meta, x[0], x[1]), chip_list))\n",
    "    return out_paths\n",
    "\n",
    "def grid_images_rasterio_regular_map(in_path, out_dir, output_name_template='tile_{}-{}.tif'):\n",
    "    \"\"\"\n",
    "    Grids up imagery to a variable size. Filters out imagery with too little usable data.\n",
    "    appends a random unique id to each tif and label pair, appending string 'label' to the \n",
    "    mask. Inspired by https://gis.stackexchange.com/questions/285499/how-to-split-multiband-image-into-image-tiles-using-rasterio\n",
    "    \"\"\"    \n",
    "    with rasterio.open(in_path) as src:\n",
    "        meta = src.meta.copy()\n",
    "        chip_list = get_tiles_for_threaded_map(src)\n",
    "        out_paths = list(map(lambda x: write_by_window(src, out_dir, output_name_template, meta, x[0], x[1]), chip_list))\n",
    "    return out_paths"
   ]
  },
  {
   "cell_type": "code",
   "execution_count": null,
   "metadata": {},
   "outputs": [],
   "source": [
    "%%time\n",
    "out_paths = grid_images_rasterio_controlled_threads(wflow.stacked_path, wflow.GRIDDED_IMGS)"
   ]
  },
  {
   "cell_type": "code",
   "execution_count": null,
   "metadata": {},
   "outputs": [
    {
     "name": "stdout",
     "output_type": "stream",
     "text": [
      "868\n"
     ]
    }
   ],
   "source": [
    "%%time\n",
    "out_paths = grid_images_rasterio(wflow.stacked_path, wflow.GRIDDED_IMGS)"
   ]
  },
  {
   "cell_type": "code",
   "execution_count": 79,
   "metadata": {},
   "outputs": [
    {
     "data": {
      "text/plain": [
       "<map at 0x7fd38d7aa2b0>"
      ]
     },
     "execution_count": 79,
     "metadata": {},
     "output_type": "execute_result"
    }
   ],
   "source": [
    "out_paths"
   ]
  },
  {
   "cell_type": "code",
   "execution_count": null,
   "metadata": {},
   "outputs": [],
   "source": [
    "# Get block dimensions of src\n",
    "for ji, window in src.block_windows(1):\n",
    "\n",
    "    # read B,G,R,NIR band\n",
    "    r = src.read((1,2,3,4), window=window)\n",
    "\n",
    "    # Skip image if missing data\n",
    "    if 0 in r:\n",
    "        continue\n",
    "\n",
    "    else:\n",
    "\n",
    "        # Create chip id\n",
    "        chip_name = image_name + '_' + str(ji[0]) + '_' + str(ji[1])                    \n",
    "\n",
    "        # Create directory for image chip and subdirectories for image and labels\n",
    "        chip_dir = prep_directory + '/' + chip_name + '/'                    \n",
    "        img_dir = chip_dir + '/image/'\n",
    "        mask_dir = chip_dir + '/class_masks/'\n",
    "\n",
    "        # list of directories to map over\n",
    "        dirs = [chip_dir, img_dir, mask_dir]\n",
    "\n",
    "        # Make chip directory and subdirectories\n",
    "        for d in dirs:\n",
    "            pathlib.Path(d).mkdir(parents=True, exist_ok=True)\n",
    "\n",
    "        # Open a new GeoTiff data file in which to save the image chip\n",
    "        with rasterio.open((img_dir + chip_name + '.tif'), 'w', driver='GTiff',\n",
    "                   height=r.shape[1], width=r.shape[2], count=4,\n",
    "                   dtype=rasterio.uint16, crs=src.crs, \n",
    "                   transform=src.transform) as new_img:\n",
    "\n",
    "            # Write the rescaled image to the new GeoTiff\n",
    "            new_img.write(r)"
   ]
  },
  {
   "cell_type": "code",
   "execution_count": null,
   "metadata": {},
   "outputs": [],
   "source": []
  },
  {
   "cell_type": "code",
   "execution_count": null,
   "metadata": {},
   "outputs": [],
   "source": []
  }
 ],
 "metadata": {
  "kernelspec": {
   "display_name": "cropmask",
   "language": "python",
   "name": "cropmask"
  },
  "language_info": {
   "codemirror_mode": {
    "name": "ipython",
    "version": 3
   },
   "file_extension": ".py",
   "mimetype": "text/x-python",
   "name": "python",
   "nbconvert_exporter": "python",
   "pygments_lexer": "ipython3",
   "version": "3.7.1"
  }
 },
 "nbformat": 4,
 "nbformat_minor": 2
}
